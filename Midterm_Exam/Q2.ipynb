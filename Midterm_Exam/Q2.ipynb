{
 "cells": [
  {
   "cell_type": "markdown",
   "id": "a2999f20-5c98-4e36-b4b9-2cb920aa929b",
   "metadata": {},
   "source": [
    "(a) Prompt:\n",
    "Write a Python function translate(text, mapping) \n",
    "where: - text is a string - mapping is a dict mapping lowercase\n",
    "letters to replacement strings (e.g., {'a':'4', 'e':'3'})\n",
    "- The function converts text to lowercase, then replaces each\n",
    "character using the mapping - Characters not in the mapping are \n",
    "left unchanged - Return the translated string Add type hints, a \n",
    "docstring, and test cases. Use an efficient approach (avoid repeated string concatenation).\n",
    "\n",
    "(b) ChatGPT Code:\n",
    "def translate(text: str, mapping: dict[str, str]) -> str:\n",
    "    \"\"\"\n",
    "    Translate text using a character mapping dictionary.\n",
    "    \n",
    "    Args:\n",
    "        text: Input string to translate\n",
    "        mapping: Dictionary mapping characters to replacements\n",
    "    \n",
    "    Returns:\n",
    "        Translated string\n",
    "    \"\"\"\n",
    "    text_lower = text.lower()\n",
    "    result = []\n",
    "    for char in text_lower:\n",
    "        result.append(mapping.get(char, char))\n",
    "    return ''.join(result)\n",
    "\n",
    "# Test\n",
    "leetspeak = {'a': '4', 'e': '3', 'i': '1', 'o': '0', 's': '5'}\n",
    "print(translate(\"Hello World\", leetspeak))  # h3ll0 w0rld\n",
    "print(translate(\"Leet Speak!\", leetspeak))  # l33t 5p34k!\n",
    "\n",
    "(c) Critique: \n",
    "Correctness:\n",
    "\n",
    "Correctly converts to lowercase and applies the mapping.\n",
    "Uses .get(char, char) to return the original character if not in mapping—this is elegant.\n",
    "Behavior matches specification.\n",
    "\n",
    "Complexity:\n",
    "(tuples, list, dictionary)- Lecture 5\n",
    "Time: O(n) where n = len(text) Single pass through the string.\n",
    "Space: O(n) for the result list and the final joined string.\n",
    "\n",
    "Robustness:\n",
    "\n",
    "Works for empty strings and empty mappings.\n",
    "Does not validate input types (could check if text is string, mapping is dict).\n",
    "\n",
    "Readability:\n",
    "\n",
    "Good variable names (text_lower, result).\n",
    "Docstring is present but could be more detailed (examples, edge cases).\n",
    "Clear structure: convert, transform, join.\n",
    "\n",
    "Faithfulness to lectures:\n",
    "\n",
    "Uses .lower() for normalization (lecture: Lesson 5).\n",
    "Uses list accumulation + .join() for efficient string building Lesson 5\n",
    "Dictionary .get() method for safe lookups (lecture: dict methods Lesson 5).\n",
    "\n",
    "(d) Improved Code:\n",
    "def translate(text: str, mapping: dict) -> str:\n",
    "    text = text.lower()\n",
    "    result = []\n",
    "    for ch in text:\n",
    "        result.append(mapping.get(ch, ch))\n",
    "    return ''.join(result)\n",
    "\n",
    "mapping = {'a': '4', 'e': '3', 'i': '1', 'o': '0'}\n",
    "print(translate(\"Hello World!\", mapping))\n",
    "print(translate(\"Namaligya kog Barbeque\", mapping))\n",
    "print(translate(\"Python numbah wan\", mapping))"
   ]
  },
  {
   "cell_type": "code",
   "execution_count": 3,
   "id": "3886a7cc-ffcb-4cb3-af3d-38c0b8507965",
   "metadata": {
    "scrolled": true
   },
   "outputs": [
    {
     "name": "stdout",
     "output_type": "stream",
     "text": [
      "h3ll0 w0rld!\n",
      "n4m4l1gy4 k0g b4rb3qu3\n",
      "pyth0n numb4h w4n\n"
     ]
    }
   ],
   "source": [
    "def translate(text: str, mapping: dict) -> str:\n",
    "    text = text.lower()\n",
    "    result = []\n",
    "    for ch in text:\n",
    "        result.append(mapping.get(ch, ch))\n",
    "    return ''.join(result)\n",
    "\n",
    "mapping = {'a': '4', 'e': '3', 'i': '1', 'o': '0'}\n",
    "print(translate(\"Hello World!\", mapping))\n",
    "print(translate(\"Namaligya kog Barbeque\", mapping))\n",
    "print(translate(\"Python numbah wan\", mapping))\n"
   ]
  },
  {
   "cell_type": "code",
   "execution_count": null,
   "id": "9ddefdc0-a044-4f3c-af56-be0391cb9091",
   "metadata": {},
   "outputs": [],
   "source": []
  }
 ],
 "metadata": {
  "kernelspec": {
   "display_name": "anaconda-ai-2024.04-py310",
   "language": "python",
   "name": "conda-env-anaconda-ai-2024.04-py310-py"
  },
  "language_info": {
   "codemirror_mode": {
    "name": "ipython",
    "version": 3
   },
   "file_extension": ".py",
   "mimetype": "text/x-python",
   "name": "python",
   "nbconvert_exporter": "python",
   "pygments_lexer": "ipython3",
   "version": "3.10.13"
  }
 },
 "nbformat": 4,
 "nbformat_minor": 5
}
