{
 "cells": [
  {
   "cell_type": "markdown",
   "id": "7dd82f37-aba9-40d7-92b1-c81897040686",
   "metadata": {},
   "source": [
    "(a) Prompt: \n",
    "Create a Python package called helpers with two modules: string_utils.py containing a function shout(s) that returns s.upper(), and math_utils.py containing a function area(l, w) that returns l * w. Then create main.py that imports these using both \"import helpers.string_utils as su\" and \"from helpers.math_utils import area\". Show example usage and explain namespace collisions.\n",
    "\n",
    "(b) ChatGPT Code: \n",
    "# helpers/string_utils.py\n",
    "def shout(s):\n",
    "    return s.upper()\n",
    "\n",
    "# helpers/math_utils.py\n",
    "def area(l, w):\n",
    "    return l * w\n",
    "\n",
    "# helpers/__init__.py\n",
    "# (empty)\n",
    "\n",
    "# main.py\n",
    "import helpers.string_utils as su\n",
    "from helpers.math_utils import area\n",
    "\n",
    "print(su.shout(\"hello\"))\n",
    "print(area(5, 3))\n",
    "\n",
    "(c) Critique: \n",
    "\n",
    "(i) Correctness\n",
    "Both functions work as specified\n",
    "Demonstrates both import styles\n",
    "\n",
    "(ii) Time & Space Complexity\n",
    "O(n) time (string copy for uppercase operation), O(n) space (new string created)\n",
    "O(1) time and space (simple multiplication)\n",
    "Both are optimal for their operations\n",
    "\n",
    "(iii) Robustness\n",
    "No error handling for invalid inputs\n",
    "No docstrings explaining parameters or return values\n",
    "No type hints\n",
    "No tests to verify functionality\n",
    "\n",
    "(iv) Readability/Style\n",
    "Simple, clear function names\n",
    "Missing:\n",
    "Docstrings\n",
    "Type hints\n",
    "Module-level docstrings\n",
    "\n",
    "(v) Faithfulness to Lectures\n",
    "Lecture 7 Page 12\n",
    "Import variations demonstrated: `import ... as` and `from ... import`\n",
    "Package structure: Correctly uses `__init__.py`\n",
    "\n",
    "\n",
    "\n",
    "(d) Improved Code: \n",
    "from helpers.string_utils import shout\n",
    "from helpers.math_utils import area\n",
    "\n",
    "def test_shout_and_area(text: str, length: float, width: float) -> None:\n",
    "    print(f\" {shout(text)}\")\n",
    "    print(f\"Area ({length} x {width}) = {area(length, width)} sq units\\n\")\n",
    "\n",
    "def main() -> None:\n",
    "    test_shout_and_area(\"hello world!\", 7, 3)\n",
    "    test_shout_and_area(\"python nambah wan\", 10, 10)\n",
    "\n",
    "if __name__ == \"__main__\":\n",
    "    main()\n"
   ]
  },
  {
   "cell_type": "code",
   "execution_count": 10,
   "id": "65831dec-45af-4b8f-9d5f-97771e3af933",
   "metadata": {},
   "outputs": [
    {
     "name": "stdout",
     "output_type": "stream",
     "text": [
      " HELLO WORLD!\n",
      "Area (7 x 3) = 21 sq units\n",
      "\n",
      " PYTHON NAMBAH WAN\n",
      "Area (10 x 10) = 100 sq units\n",
      "\n"
     ]
    }
   ],
   "source": [
    "from helpers.string_utils import shout\n",
    "from helpers.math_utils import area\n",
    "\n",
    "def test_shout_and_area(text: str, length: float, width: float) -> None:\n",
    "    print(f\" {shout(text)}\")\n",
    "    print(f\"Area ({length} x {width}) = {area(length, width)} sq units\\n\")\n",
    "\n",
    "def main() -> None:\n",
    "    test_shout_and_area(\"hello world!\", 7, 3)\n",
    "    test_shout_and_area(\"python nambah wan\", 10, 10)\n",
    "\n",
    "if __name__ == \"__main__\":\n",
    "    main()\n"
   ]
  },
  {
   "cell_type": "code",
   "execution_count": null,
   "id": "76196b31-2aad-401b-af0e-f121b4e75e19",
   "metadata": {},
   "outputs": [],
   "source": []
  }
 ],
 "metadata": {
  "kernelspec": {
   "display_name": "anaconda-ai-2024.04-py310",
   "language": "python",
   "name": "conda-env-anaconda-ai-2024.04-py310-py"
  },
  "language_info": {
   "codemirror_mode": {
    "name": "ipython",
    "version": 3
   },
   "file_extension": ".py",
   "mimetype": "text/x-python",
   "name": "python",
   "nbconvert_exporter": "python",
   "pygments_lexer": "ipython3",
   "version": "3.10.13"
  }
 },
 "nbformat": 4,
 "nbformat_minor": 5
}
