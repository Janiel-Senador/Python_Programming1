{
 "cells": [
  {
   "cell_type": "markdown",
   "id": "320756d0-ad3d-434e-8a44-e676a260c752",
   "metadata": {},
   "source": [
    "(a) Prompt: \n",
    "Write a Python function fmt_money(x) that:\n",
    "1. Takes a float representing a dollar amount\n",
    "2. Rounds to 2 decimal places using banker's rounding (ties-to-even)\n",
    "3. Formats with comma separators for thousands\n",
    "4. Always shows 2 decimal places (e.g., 1234.50)\n",
    "5. Returns a string\n",
    "\n",
    "Include type hints and test cases that show ties behavior (2.5, 3.5, etc.).\n",
    "\n",
    "(b) ChatGPT Code: \n",
    "def fmt_money(x: float) -> str:\n",
    "    rounded = round(x, 2)\n",
    "    return f\"{rounded:,.2f}\"\n",
    "\n",
    "# Tests\n",
    "print(fmt_money(1234.567))    # 1,234.57\n",
    "print(fmt_money(2.5))          # 2.5 (but should round to 2)\n",
    "print(fmt_money(3.5))          # 4 (rounds to even)\n",
    "print(fmt_money(1000000.005))  # 1,000,000.00\n",
    "print(fmt_money(0.1 + 0.2))    # Should be 0.30\n",
    "\n",
    "(c) Critique: \n",
    "Correctness\n",
    "Mostly correct, but has issues:\n",
    "Uses Python's built-in round() which implements ties-to-even (banker's rounding) since Python 3\n",
    "Format string {:,.2f} correctly adds comma separators and enforces 2 decimal places\n",
    "Comment error: print(fmt_money(2.5)) comment says \"should round to 2\" - actually rounds to 2 (even), not 3\n",
    "Doesn't handle negative numbers explicitly (though format string handles them fine)\n",
    "No validation for non-numeric input\n",
    "\n",
    "Complexity\n",
    "Time: O(1) for rounding, O(log n) for formatting n-digit numbers (digit insertion)\n",
    "Space: O(log n) for the output string\n",
    "Very efficient for typical currency values\n",
    "\n",
    "Robustness\n",
    "No type checking - what if someone passes a string \"123.45\"?\n",
    "No handling of None, inf, nan, or extremely large values\n",
    "No validation that input is actually monetary (could be negative infinity)\n",
    "Missing docstring\n",
    "Test cases don't use assertions - just prints\n",
    "\n",
    "Readability\n",
    "Variable name rounded is clear\n",
    "Format string {:,.2f} is idiomatic but dense - could use comment\n",
    "Missing docstring explaining banker's rounding\n",
    "\n",
    "Faithfulness to Lectures\n",
    "Lecture 2\n",
    "Uses round() function (lecture: built-in numeric functions)\n",
    "Uses f-string formatting with format specifiers (lecture: formatted printing)\n",
    "Demonstrates floating-point representation issues (0.1 + 0.2)\n",
    "(d) Improved Code: \n",
    "def fmt_money(x: float) -> str:\n",
    "    n = x * 100\n",
    "    frac = n % 1\n",
    "    n_int = int(n)\n",
    "    if abs(frac - 0.5) < 1e-9:\n",
    "        if n_int % 2 != 0:\n",
    "            n_int += 1 if x > 0 else -1\n",
    "    elif frac > 0.5:\n",
    "        n_int += 1 if x > 0 else -1\n",
    "    elif frac < -0.5:\n",
    "        n_int += -1 if x > 0 else 1\n",
    "    rounded = n_int / 100.0\n",
    "    return f\"{rounded:,.2f}\"\n",
    "\n",
    "print(fmt_money(1234.5))\n",
    "print(fmt_money(1234.567))\n",
    "print(fmt_money(1234567.891))"
   ]
  },
  {
   "cell_type": "code",
   "execution_count": 6,
   "id": "1120c3a8-b554-425f-b6f8-547c1e28a80f",
   "metadata": {},
   "outputs": [
    {
     "name": "stdout",
     "output_type": "stream",
     "text": [
      "1,234.50\n",
      "1,234.57\n",
      "1,234,567.89\n"
     ]
    }
   ],
   "source": [
    "def fmt_money(x: float) -> str:\n",
    "    n = x * 100\n",
    "    frac = n % 1\n",
    "    n_int = int(n)\n",
    "    if abs(frac - 0.5) < 1e-9:\n",
    "        if n_int % 2 != 0:\n",
    "            n_int += 1 if x > 0 else -1\n",
    "    elif frac > 0.5:\n",
    "        n_int += 1 if x > 0 else -1\n",
    "    elif frac < -0.5:\n",
    "        n_int += -1 if x > 0 else 1\n",
    "    rounded = n_int / 100.0\n",
    "    return f\"{rounded:,.2f}\"\n",
    "\n",
    "print(fmt_money(1234.5))\n",
    "print(fmt_money(1234.567))\n",
    "print(fmt_money(1234567.891))"
   ]
  },
  {
   "cell_type": "code",
   "execution_count": null,
   "id": "a0aeb79e-14aa-499c-be65-46ecf3ac8796",
   "metadata": {},
   "outputs": [],
   "source": []
  }
 ],
 "metadata": {
  "kernelspec": {
   "display_name": "anaconda-ai-2024.04-py310",
   "language": "python",
   "name": "conda-env-anaconda-ai-2024.04-py310-py"
  },
  "language_info": {
   "codemirror_mode": {
    "name": "ipython",
    "version": 3
   },
   "file_extension": ".py",
   "mimetype": "text/x-python",
   "name": "python",
   "nbconvert_exporter": "python",
   "pygments_lexer": "ipython3",
   "version": "3.10.13"
  }
 },
 "nbformat": 4,
 "nbformat_minor": 5
}
