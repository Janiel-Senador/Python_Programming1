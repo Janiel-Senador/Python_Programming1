{
 "cells": [
  {
   "cell_type": "code",
   "execution_count": 8,
   "id": "76082ec5-ebc3-4a3f-8ff2-2dfdc7cdbc60",
   "metadata": {},
   "outputs": [
    {
     "name": "stdout",
     "output_type": "stream",
     "text": [
      "4\n"
     ]
    },
    {
     "data": {
      "text/plain": [
       "'WHAAAATTTT!!!'"
      ]
     },
     "execution_count": 8,
     "metadata": {},
     "output_type": "execute_result"
    }
   ],
   "source": [
    "from helpers import math as m, string as s\n",
    "\n",
    "print(m.area(2, 2))\n",
    "(s.shout(\"whaaaatttt!!!\"))"
   ]
  },
  {
   "cell_type": "code",
   "execution_count": 21,
   "id": "8d700fa0-bd31-4087-bed6-989df35222cf",
   "metadata": {},
   "outputs": [
    {
     "name": "stdout",
     "output_type": "stream",
     "text": [
      "THE AREA OF A 5-BY-8 IS 40\n"
     ]
    }
   ],
   "source": [
    "from helpers import math as m, string as s\n",
    "\n",
    "length = 5\n",
    "width = 8\n",
    "result = area(length, width)\n",
    "#parag = f\"the area of a {length}-by-{width} is {result}\"\n",
    "print(s.shout(f\"the area of a {length}-by-{width} is {result}\"))"
   ]
  },
  {
   "cell_type": "code",
   "execution_count": null,
   "id": "e5ce087e-fd30-4e74-b3bd-2de569d0442c",
   "metadata": {},
   "outputs": [],
   "source": []
  }
 ],
 "metadata": {
  "kernelspec": {
   "display_name": "anaconda-ai-2024.04-py310",
   "language": "python",
   "name": "conda-env-anaconda-ai-2024.04-py310-py"
  },
  "language_info": {
   "codemirror_mode": {
    "name": "ipython",
    "version": 3
   },
   "file_extension": ".py",
   "mimetype": "text/x-python",
   "name": "python",
   "nbconvert_exporter": "python",
   "pygments_lexer": "ipython3",
   "version": "3.10.13"
  }
 },
 "nbformat": 4,
 "nbformat_minor": 5
}
