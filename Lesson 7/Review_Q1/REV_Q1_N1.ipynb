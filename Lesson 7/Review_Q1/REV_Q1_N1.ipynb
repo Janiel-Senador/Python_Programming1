{
 "cells": [
  {
   "cell_type": "code",
   "execution_count": 1,
   "id": "b17f3ea3-d439-4410-a5fe-25d297b84a8b",
   "metadata": {},
   "outputs": [
    {
     "data": {
      "text/plain": [
       "'Hello Jan'"
      ]
     },
     "execution_count": 1,
     "metadata": {},
     "output_type": "execute_result"
    }
   ],
   "source": [
    "import greeter\n",
    "\n",
    "greeter.greet(\"Jan\")"
   ]
  },
  {
   "cell_type": "code",
   "execution_count": null,
   "id": "88146694-744f-4f6d-bf0c-c7e448899e7e",
   "metadata": {},
   "outputs": [],
   "source": []
  }
 ],
 "metadata": {
  "kernelspec": {
   "display_name": "anaconda-ai-2024.04-py310",
   "language": "python",
   "name": "conda-env-anaconda-ai-2024.04-py310-py"
  },
  "language_info": {
   "codemirror_mode": {
    "name": "ipython",
    "version": 3
   },
   "file_extension": ".py",
   "mimetype": "text/x-python",
   "name": "python",
   "nbconvert_exporter": "python",
   "pygments_lexer": "ipython3",
   "version": "3.10.13"
  }
 },
 "nbformat": 4,
 "nbformat_minor": 5
}
