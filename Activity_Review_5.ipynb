{
 "cells": [
  {
   "cell_type": "markdown",
   "id": "f7e92d21-6543-4dd2-b6bc-b8e210f288df",
   "metadata": {},
   "source": [
    "# Activity Review 5"
   ]
  },
  {
   "cell_type": "code",
   "execution_count": 1,
   "id": "17dfaff8-fe21-4bf7-ab36-49ccd22383d8",
   "metadata": {},
   "outputs": [
    {
     "name": "stdout",
     "output_type": "stream",
     "text": [
      "-1\n"
     ]
    }
   ],
   "source": [
    "stri = \"AAA\"\n",
    "strin = stri.find(\"a\")\n",
    "print(strin)"
   ]
  },
  {
   "cell_type": "code",
   "execution_count": 3,
   "id": "4eb2ded9-aac7-41d8-bb1b-8b7b2c7b3197",
   "metadata": {},
   "outputs": [
    {
     "name": "stdout",
     "output_type": "stream",
     "text": [
      "Somebody yaid yomething to Samantha.\n"
     ]
    }
   ],
   "source": [
    "Strs = \"Somebody said something to Samantha.\"\n",
    "Repls = Strs.replace(\"s\", \"y\")\n",
    "print(Repls)"
   ]
  },
  {
   "cell_type": "code",
   "execution_count": 4,
   "id": "a6ea01e2-f68b-4455-b39c-3668a1bc745c",
   "metadata": {},
   "outputs": [
    {
     "name": "stdin",
     "output_type": "stream",
     "text": [
      "(Rain Rain Go Away Come Again Another Day) Input words in this sentence:  Day\n"
     ]
    },
    {
     "name": "stdout",
     "output_type": "stream",
     "text": [
      "38\n"
     ]
    }
   ],
   "source": [
    "String = \"(Rain Rain Go Away Come Again Another Day) Input words in this sentence: \"\n",
    "user = input(String)\n",
    "finds = String.find(user)\n",
    "print(finds)"
   ]
  },
  {
   "cell_type": "code",
   "execution_count": null,
   "id": "55328794-7e60-4f27-b87e-78c3f6f0ac2b",
   "metadata": {},
   "outputs": [],
   "source": []
  }
 ],
 "metadata": {
  "kernelspec": {
   "display_name": "Python 3 (ipykernel)",
   "language": "python",
   "name": "python3"
  },
  "language_info": {
   "codemirror_mode": {
    "name": "ipython",
    "version": 3
   },
   "file_extension": ".py",
   "mimetype": "text/x-python",
   "name": "python",
   "nbconvert_exporter": "python",
   "pygments_lexer": "ipython3",
   "version": "3.13.5"
  }
 },
 "nbformat": 4,
 "nbformat_minor": 5
}
