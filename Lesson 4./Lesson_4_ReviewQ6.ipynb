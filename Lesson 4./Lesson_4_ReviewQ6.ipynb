{
 "cells": [
  {
   "cell_type": "markdown",
   "id": "5ad33b88-0fc5-4093-9110-2b64f12b20b5",
   "metadata": {},
   "source": [
    "# Review Question 6"
   ]
  },
  {
   "cell_type": "code",
   "execution_count": 13,
   "id": "5e4c8b02-5bd2-4699-9052-6c4f3a3402ad",
   "metadata": {},
   "outputs": [
    {
     "name": "stdout",
     "output_type": "stream",
     "text": [
      "The system choosed: 4\n"
     ]
    }
   ],
   "source": [
    "import random\n",
    "\n",
    "def roll():\n",
    "    return random.randint(1, 6)\n",
    "\n",
    "print(f\"The dice rolled: {roll()}\")"
   ]
  },
  {
   "cell_type": "code",
   "execution_count": 15,
   "id": "1cfbe359-7aa1-44da-92e2-16ff6b85a622",
   "metadata": {},
   "outputs": [
    {
     "name": "stdout",
     "output_type": "stream",
     "text": [
      "Simulating 10,000 rolls of a fair die...\n",
      "\n",
      "Results after 10,000 rolls:\n",
      "Average roll: 3.4906\n",
      "\n",
      "Frequency of each face:\n",
      "Face 1: 1,638 times (16.38%)\n",
      "Face 2: 1,719 times (17.19%)\n",
      "Face 3: 1,670 times (16.70%)\n",
      "Face 4: 1,698 times (16.98%)\n",
      "Face 5: 1,622 times (16.22%)\n",
      "Face 6: 1,653 times (16.53%)\n"
     ]
    }
   ],
   "source": [
    "import random\n",
    "\n",
    "def roll():\n",
    "    return random.randint(1, 6)\n",
    "\n",
    "def simulate_rolls(num_rolls):\n",
    "    rolls = []\n",
    "    total = 0\n",
    "    \n",
    "    for i in range(num_rolls):\n",
    "        roll_result = roll()\n",
    "        rolls.append(roll_result)\n",
    "        total += roll_result\n",
    "    average = total / num_rolls\n",
    "    return rolls, average\n",
    "if __name__ == \"__main__\":\n",
    "    NUM_ROLLS = 10000\n",
    "    print(f\"Simulating {NUM_ROLLS:,} rolls of a fair die...\")\n",
    "    all_rolls, avg_roll = simulate_rolls(NUM_ROLLS)\n",
    "    print(f\"\\nResults after {NUM_ROLLS:,} rolls:\")\n",
    "    print(f\"Average roll: {avg_roll:.4f}\")\n",
    "    print(\"\\nFrequency of each face:\")\n",
    "    for face in range(1, 7):\n",
    "        count = all_rolls.count(face)\n",
    "        percentage = (count / NUM_ROLLS) * 100\n",
    "        print(f\"Face {face}: {count:,} times ({percentage:.2f}%)\")"
   ]
  },
  {
   "cell_type": "code",
   "execution_count": null,
   "id": "71e47a99-edcd-4bd9-ae00-bfb47324129b",
   "metadata": {},
   "outputs": [],
   "source": []
  }
 ],
 "metadata": {
  "kernelspec": {
   "display_name": "anaconda-ai-2024.04-py310",
   "language": "python",
   "name": "conda-env-anaconda-ai-2024.04-py310-py"
  },
  "language_info": {
   "codemirror_mode": {
    "name": "ipython",
    "version": 3
   },
   "file_extension": ".py",
   "mimetype": "text/x-python",
   "name": "python",
   "nbconvert_exporter": "python",
   "pygments_lexer": "ipython3",
   "version": "3.10.13"
  }
 },
 "nbformat": 4,
 "nbformat_minor": 5
}
