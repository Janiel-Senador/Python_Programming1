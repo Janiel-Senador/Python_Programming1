{
 "cells": [
  {
   "cell_type": "markdown",
   "id": "bebc7e7d-a817-4c69-83de-2c282e7e6148",
   "metadata": {},
   "source": [
    "# Review Question 3"
   ]
  },
  {
   "cell_type": "code",
   "execution_count": 1,
   "id": "1ebf23e7-917a-4795-9d78-c1b5cb7ce6cf",
   "metadata": {},
   "outputs": [
    {
     "name": "stdin",
     "output_type": "stream",
     "text": [
      "Enter your name:  watashiwa\n"
     ]
    },
    {
     "name": "stdout",
     "output_type": "stream",
     "text": [
      "Invalid! Only 5 Letters\n"
     ]
    }
   ],
   "source": [
    "user = input(\"Enter your name: \")\n",
    "\n",
    "if (len(user) <= 5):\n",
    "    print(f\"Hello! {user}\")\n",
    "else:\n",
    "    print(\"Invalid! Only 5 Letters\")"
   ]
  },
  {
   "cell_type": "code",
   "execution_count": null,
   "id": "a6a245ae-2fc8-4e72-bbd3-288d81ec7520",
   "metadata": {},
   "outputs": [],
   "source": []
  }
 ],
 "metadata": {
  "kernelspec": {
   "display_name": "anaconda-panel-2023.05-py310",
   "language": "python",
   "name": "conda-env-anaconda-panel-2023.05-py310-py"
  },
  "language_info": {
   "codemirror_mode": {
    "name": "ipython",
    "version": 3
   },
   "file_extension": ".py",
   "mimetype": "text/x-python",
   "name": "python",
   "nbconvert_exporter": "python",
   "pygments_lexer": "ipython3",
   "version": "3.11.5"
  }
 },
 "nbformat": 4,
 "nbformat_minor": 5
}
