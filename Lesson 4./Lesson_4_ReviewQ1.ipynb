{
 "cells": [
  {
   "cell_type": "markdown",
   "id": "5c391701-5871-4028-997c-21a8048ffc1b",
   "metadata": {},
   "source": [
    "# Review Question 3"
   ]
  },
  {
   "cell_type": "code",
   "execution_count": 14,
   "id": "18061f55-2f38-405e-85a6-052596e3b490",
   "metadata": {},
   "outputs": [
    {
     "name": "stdout",
     "output_type": "stream",
     "text": [
      "1\n",
      "True\n",
      "False\n",
      "True\n",
      "True\n",
      "False\n",
      "False\n",
      "///////////////////////\n",
      "2\n",
      "True\n",
      "True\n",
      "True\n",
      "True\n"
     ]
    }
   ],
   "source": [
    "#1\n",
    "print(\"1\")\n",
    "print(1 <= 1)\n",
    "print(1 != 1)\n",
    "print(1 != 2)\n",
    "print(\"good\" != \"bad\")\n",
    "print(\"good\" != \"good\")\n",
    "print(123 == \"123\")\n",
    "print(\"///////////////////////\")\n",
    "#2\n",
    "print(\"2\")\n",
    "print(3 < 4)\n",
    "print(10 > 5)\n",
    "print(\"jack\" != \"jill\")\n",
    "print(42 == 42)"
   ]
  },
  {
   "cell_type": "code",
   "execution_count": 15,
   "id": "9e1cb88d-0229-47aa-9a30-c209edbc80f8",
   "metadata": {},
   "outputs": [
    {
     "name": "stdout",
     "output_type": "stream",
     "text": [
      "True\n"
     ]
    }
   ],
   "source": [
    "print(1 < 2 or 3 < 4)"
   ]
  },
  {
   "cell_type": "code",
   "execution_count": null,
   "id": "5c4687a1-2a28-4412-b727-fd9d562d0ce3",
   "metadata": {},
   "outputs": [],
   "source": []
  },
  {
   "cell_type": "code",
   "execution_count": null,
   "id": "2aca850c-92bb-444e-a5a2-677bdb8ea6e7",
   "metadata": {},
   "outputs": [],
   "source": []
  },
  {
   "cell_type": "code",
   "execution_count": null,
   "id": "a014174a-6bd9-4de9-8a41-5fcce0b3659a",
   "metadata": {},
   "outputs": [],
   "source": []
  }
 ],
 "metadata": {
  "kernelspec": {
   "display_name": "anaconda-ai-2024.04-py310",
   "language": "python",
   "name": "conda-env-anaconda-ai-2024.04-py310-py"
  },
  "language_info": {
   "codemirror_mode": {
    "name": "ipython",
    "version": 3
   },
   "file_extension": ".py",
   "mimetype": "text/x-python",
   "name": "python",
   "nbconvert_exporter": "python",
   "pygments_lexer": "ipython3",
   "version": "3.10.13"
  }
 },
 "nbformat": 4,
 "nbformat_minor": 5
}
