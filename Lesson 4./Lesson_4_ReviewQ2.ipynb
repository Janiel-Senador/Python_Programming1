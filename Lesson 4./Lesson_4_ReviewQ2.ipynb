{
 "cells": [
  {
   "cell_type": "markdown",
   "id": "89850d38-a4ff-4748-b9db-365a254a3f93",
   "metadata": {},
   "source": [
    "# Review Question 2"
   ]
  },
  {
   "cell_type": "code",
   "execution_count": 1,
   "id": "3792db96-2b80-41fc-ad35-ece5e9b33384",
   "metadata": {},
   "outputs": [
    {
     "name": "stdout",
     "output_type": "stream",
     "text": [
      "1\n",
      "False\n",
      "False\n",
      "True\n",
      "True\n",
      "////////////////////\n",
      "2\n",
      "True\n",
      "True\n",
      "True\n"
     ]
    }
   ],
   "source": [
    "print(\"1\")\n",
    "print(1 <= 1 and 1 != 1)\n",
    "print(not 1 !=2)\n",
    "print(\"good\" != \"bad\" or False)\n",
    "print(\"good\" != \"Good\" or not 1 == 1)\n",
    "print(\"////////////////////\")\n",
    "print(\"2\")\n",
    "print(not False == True)\n",
    "print((True and False) == (True and False))\n",
    "print((True) or (\"A\" == \"B\"))"
   ]
  },
  {
   "cell_type": "code",
   "execution_count": null,
   "id": "b6d04611-af0c-4d39-bccb-d21f41692693",
   "metadata": {},
   "outputs": [],
   "source": []
  }
 ],
 "metadata": {
  "kernelspec": {
   "display_name": "anaconda-panel-2023.05-py310",
   "language": "python",
   "name": "conda-env-anaconda-panel-2023.05-py310-py"
  },
  "language_info": {
   "codemirror_mode": {
    "name": "ipython",
    "version": 3
   },
   "file_extension": ".py",
   "mimetype": "text/x-python",
   "name": "python",
   "nbconvert_exporter": "python",
   "pygments_lexer": "ipython3",
   "version": "3.11.5"
  }
 },
 "nbformat": 4,
 "nbformat_minor": 5
}
