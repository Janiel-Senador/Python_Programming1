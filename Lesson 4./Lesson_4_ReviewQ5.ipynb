{
 "cells": [
  {
   "cell_type": "markdown",
   "id": "47a0a446-40c3-41e7-9f0d-80fc8e341d19",
   "metadata": {},
   "source": [
    "# Review Question 5"
   ]
  },
  {
   "cell_type": "code",
   "execution_count": null,
   "id": "cf61087c-2ce4-43dd-ad80-89f52ca64ba5",
   "metadata": {},
   "outputs": [],
   "source": [
    "while True:\n",
    "    try:\n",
    "        user = int(input(\"Enter a number only!: \"))\n",
    "        print(f\"You entered: {user}\")\n",
    "        break\n",
    "    except ValueError:\n",
    "        print(\"It's not an integer tho!\")"
   ]
  },
  {
   "cell_type": "code",
   "execution_count": 26,
   "id": "c2849187-bb9f-4049-ba15-3003a24ad32c",
   "metadata": {},
   "outputs": [
    {
     "name": "stdin",
     "output_type": "stream",
     "text": [
      "Enter a word:  hjkhkjhkjh\n",
      "Enter a number!:  90\n"
     ]
    },
    {
     "name": "stdout",
     "output_type": "stream",
     "text": [
      "Error: Your index 90 is out of ranges, Your string only have 10 char indeces 0 to 10\n"
     ]
    }
   ],
   "source": [
    "usah = input(\"Enter a word: \")\n",
    "ints = int(input(\"Enter a number!: \"))\n",
    "try:\n",
    "    char = usah[ints]\n",
    "    print(f\"The char at index {ints} is: {char}\")\n",
    "except IndexError:    \n",
    "    print(f\"Error: Your index {ints} is out of ranges, Your string only have {len(usah)} char indeces 0 to {len(usah)-1}\")\n",
    "    "
   ]
  },
  {
   "cell_type": "code",
   "execution_count": null,
   "id": "3dd26107-1513-470b-b446-eacee5c9d393",
   "metadata": {},
   "outputs": [],
   "source": []
  }
 ],
 "metadata": {
  "kernelspec": {
   "display_name": "anaconda-panel-2023.05-py310",
   "language": "python",
   "name": "conda-env-anaconda-panel-2023.05-py310-py"
  },
  "language_info": {
   "codemirror_mode": {
    "name": "ipython",
    "version": 3
   },
   "file_extension": ".py",
   "mimetype": "text/x-python",
   "name": "python",
   "nbconvert_exporter": "python",
   "pygments_lexer": "ipython3",
   "version": "3.11.5"
  }
 },
 "nbformat": 4,
 "nbformat_minor": 5
}
