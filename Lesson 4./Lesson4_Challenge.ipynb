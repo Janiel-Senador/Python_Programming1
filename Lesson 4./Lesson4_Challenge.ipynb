{
 "cells": [
  {
   "cell_type": "markdown",
   "id": "5ad33b88-0fc5-4093-9110-2b64f12b20b5",
   "metadata": {},
   "source": [
    "# Challenge 1"
   ]
  },
  {
   "cell_type": "code",
   "execution_count": 4,
   "id": "5e4c8b02-5bd2-4699-9052-6c4f3a3402ad",
   "metadata": {},
   "outputs": [
    {
     "name": "stdout",
     "output_type": "stream",
     "text": [
      "Candidate A's chances of winning by region:\n",
      "  Region 1: 87.0%\n",
      "  Region 2: 65.0%\n",
      "  Region 3: 17.0%\n",
      "\n",
      "Candidate B's chances of winning by region:\n",
      "  Region 1: 13.0%\n",
      "  Region 2: 35.0%\n",
      "  Region 3: 83.0%\n",
      "\n",
      "//////////////////////////////////////////////////\n",
      "OVERALL WINNER ANALYSIS\n",
      "//////////////////////////////////////////////////\n",
      "\n",
      "Assuming majority rule (need ≥2 regions to win):\n",
      "  Candidate A wins election: 0.6316 (63.16%)\n",
      "  Candidate B wins election: 0.3684 (36.84%)\n"
     ]
    }
   ],
   "source": [
    "import itertools\n",
    "from fractions import Fraction\n",
    "\n",
    "prob_A = {\n",
    "    'Region 1': 0.87,\n",
    "    'Region 2': 0.65,\n",
    "    'Region 3': 0.17\n",
    "}\n",
    "prob_B = {region: 1 - prob for region, prob in prob_A.items()}\n",
    "print(\"Candidate A's chances of winning by region:\")\n",
    "for region, prob in prob_A.items():\n",
    "    print(f\"  {region}: {prob:.1%}\")\n",
    "\n",
    "print(\"\\nCandidate B's chances of winning by region:\")\n",
    "for region, prob in prob_B.items():\n",
    "    print(f\"  {region}: {prob:.1%}\")\n",
    "\n",
    "regions = list(prob_A.keys())\n",
    "outcomes = list(itertools.product(['A', 'B'], repeat=3))\n",
    "\n",
    "scenario_probs = {}\n",
    "for outcome in outcomes:\n",
    "    prob = 1.0\n",
    "    for i, winner in enumerate(outcome):\n",
    "        region = regions[i]\n",
    "        if winner == 'A':\n",
    "            prob *= prob_A[region]\n",
    "        else:\n",
    "            prob *= prob_B[region]\n",
    "    \n",
    "    scenario_probs[outcome] = prob\n",
    "regions_won_summary = {0: 0, 1: 0, 2: 0, 3: 0}\n",
    "for outcome, prob in scenario_probs.items():\n",
    "    regions_won_A = sum(1 for w in outcome if w == 'A')\n",
    "    regions_won_summary[regions_won_A] += prob\n",
    "print(\"\\n\" + \"/\"*50)\n",
    "print(\"OVERALL WINNER ANALYSIS\")\n",
    "print(\"/\"*50)\n",
    "prob_A_wins_election = regions_won_summary[2] + regions_won_summary[3]\n",
    "prob_B_wins_election = regions_won_summary[0] + regions_won_summary[1]\n",
    "print(f\"\\nAssuming majority rule (need ≥2 regions to win):\")\n",
    "print(f\"  Candidate A wins election: {prob_A_wins_election:.4f} ({prob_A_wins_election:.2%})\")\n",
    "print(f\"  Candidate B wins election: {prob_B_wins_election:.4f} ({prob_B_wins_election:.2%})\")"
   ]
  },
  {
   "cell_type": "code",
   "execution_count": null,
   "id": "c3646a96-d4c4-486d-a13e-77b48fe09065",
   "metadata": {},
   "outputs": [],
   "source": []
  }
 ],
 "metadata": {
  "kernelspec": {
   "display_name": "anaconda-ai-2024.04-py310",
   "language": "python",
   "name": "conda-env-anaconda-ai-2024.04-py310-py"
  },
  "language_info": {
   "codemirror_mode": {
    "name": "ipython",
    "version": 3
   },
   "file_extension": ".py",
   "mimetype": "text/x-python",
   "name": "python",
   "nbconvert_exporter": "python",
   "pygments_lexer": "ipython3",
   "version": "3.10.13"
  }
 },
 "nbformat": 4,
 "nbformat_minor": 5
}
