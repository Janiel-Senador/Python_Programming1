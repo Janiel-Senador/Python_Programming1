{
 "cells": [
  {
   "cell_type": "markdown",
   "id": "f519f4f6-af5f-44b7-b3ce-c11ce31f00bc",
   "metadata": {},
   "source": [
    "# Activity Review 4"
   ]
  },
  {
   "cell_type": "code",
   "execution_count": 5,
   "id": "a61e406c-3703-42fd-9044-2c9ecbd36ecc",
   "metadata": {},
   "outputs": [
    {
     "name": "stdout",
     "output_type": "stream",
     "text": [
      "1476\n"
     ]
    }
   ],
   "source": [
    "string1 = \"123\"\n",
    "string2 = \"12\"\n",
    "ToInt = int(string1)\n",
    "ToInt1 = int(string2)\n",
    "result = ToInt * ToInt1\n",
    "\n",
    "print(result)"
   ]
  },
  {
   "cell_type": "code",
   "execution_count": 7,
   "id": "254759b1-dc8f-40db-b829-08c35f722fa4",
   "metadata": {},
   "outputs": [
    {
     "name": "stdout",
     "output_type": "stream",
     "text": [
      "1488.3\n"
     ]
    }
   ],
   "source": [
    "string1 = \"123.0\"\n",
    "string2 = \"12.1\"\n",
    "Tofloat = float(string1)\n",
    "Tofloat1 = float(string2)\n",
    "result = Tofloat * Tofloat1\n",
    "\n",
    "print(result)"
   ]
  },
  {
   "cell_type": "code",
   "execution_count": 10,
   "id": "ed2f13c2-19a0-428a-b055-555f6ffe774f",
   "metadata": {},
   "outputs": [
    {
     "name": "stdout",
     "output_type": "stream",
     "text": [
      "123 Hola 123\n"
     ]
    }
   ],
   "source": [
    "string1 = \"123\"\n",
    "string2 = \"Hola\"\n",
    "ToInt = int(string1)\n",
    "#res = ToInt + string2 + ToInt\n",
    "print(ToInt,string2,ToInt)\n"
   ]
  },
  {
   "cell_type": "code",
   "execution_count": null,
   "id": "a3403658-cc82-43fd-b596-d4195a2004ba",
   "metadata": {},
   "outputs": [],
   "source": []
  }
 ],
 "metadata": {
  "kernelspec": {
   "display_name": "Python 3 (ipykernel)",
   "language": "python",
   "name": "python3"
  },
  "language_info": {
   "codemirror_mode": {
    "name": "ipython",
    "version": 3
   },
   "file_extension": ".py",
   "mimetype": "text/x-python",
   "name": "python",
   "nbconvert_exporter": "python",
   "pygments_lexer": "ipython3",
   "version": "3.13.5"
  }
 },
 "nbformat": 4,
 "nbformat_minor": 5
}
