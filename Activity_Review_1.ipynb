{
 "cells": [
  {
   "cell_type": "markdown",
   "id": "2546510c-6183-4fb6-ab33-e7a30bd04a9e",
   "metadata": {},
   "source": [
    "# Activity Review 1"
   ]
  },
  {
   "cell_type": "code",
   "execution_count": 4,
   "id": "e5b5a195-a27e-46a7-9fad-95b712849cab",
   "metadata": {},
   "outputs": [
    {
     "name": "stdout",
     "output_type": "stream",
     "text": [
      "Janiel\n"
     ]
    }
   ],
   "source": [
    "Object1 = \"Jan\"\n",
    "Object2 = \"iel\"\n",
    "Combine = Object1 + Object2\n",
    "print(Combine)"
   ]
  },
  {
   "cell_type": "code",
   "execution_count": 3,
   "id": "846f3174-de35-4712-b6d2-a16c72f2f191",
   "metadata": {},
   "outputs": [
    {
     "name": "stdout",
     "output_type": "stream",
     "text": [
      "5\n"
     ]
    }
   ],
   "source": [
    "Object = \"Olala\"\n",
    "print(len(Object))"
   ]
  },
  {
   "cell_type": "code",
   "execution_count": 2,
   "id": "3926151a-f3ff-4f72-bec0-4ef5c7e65237",
   "metadata": {},
   "outputs": [
    {
     "name": "stdout",
     "output_type": "stream",
     "text": [
      " fox\n"
     ]
    }
   ],
   "source": [
    "Sentence = \"The quick brown fox jumped over the lazy dog.#1234567890!\"\n",
    "print(Sentence[15:19])"
   ]
  },
  {
   "cell_type": "code",
   "execution_count": 1,
   "id": "3fcedc13-f60a-49cc-abd0-5df4b890c70a",
   "metadata": {},
   "outputs": [
    {
     "name": "stdout",
     "output_type": "stream",
     "text": [
      "Janiel Senador\n"
     ]
    }
   ],
   "source": [
    "Object1 = \"Janiel\"\n",
    "Object2 = \"Senador\"\n",
    "Combine = Object1 + \" \" + Object2\n",
    "print(Combine)"
   ]
  }
 ],
 "metadata": {
  "kernelspec": {
   "display_name": "Python 3 (ipykernel)",
   "language": "python",
   "name": "python3"
  },
  "language_info": {
   "codemirror_mode": {
    "name": "ipython",
    "version": 3
   },
   "file_extension": ".py",
   "mimetype": "text/x-python",
   "name": "python",
   "nbconvert_exporter": "python",
   "pygments_lexer": "ipython3",
   "version": "3.13.5"
  }
 },
 "nbformat": 4,
 "nbformat_minor": 5
}
