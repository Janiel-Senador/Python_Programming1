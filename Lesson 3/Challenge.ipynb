{
 "cells": [
  {
   "cell_type": "markdown",
   "id": "6f03026b-6a09-4218-84df-f1998d21d06f",
   "metadata": {},
   "source": [
    "# Challenge 1"
   ]
  },
  {
   "cell_type": "code",
   "execution_count": 28,
   "id": "9997e2e4-ea82-4bd4-9651-19ac8ce0f630",
   "metadata": {},
   "outputs": [
    {
     "name": "stdin",
     "output_type": "stream",
     "text": [
      "Enter a temperature in degrees f 72\n"
     ]
    },
    {
     "name": "stdout",
     "output_type": "stream",
     "text": [
      "72.0degrees C = 22.22 degrees C\n"
     ]
    },
    {
     "data": {
      "text/plain": [
       "22.22222222222222"
      ]
     },
     "execution_count": 28,
     "metadata": {},
     "output_type": "execute_result"
    }
   ],
   "source": [
    "user = input(\"Enter a temperature in degrees f: \")\n",
    "num = float(user)\n",
    "\n",
    "def convert_far_to_cel(x):\n",
    "    result = (x - 32) * 5 / 9\n",
    "    print(f\"{num} degrees C = {result:.2f} degrees C\")\n",
    "    return result\n",
    "\n",
    "convert_far_to_cel(num)"
   ]
  },
  {
   "cell_type": "code",
   "execution_count": 29,
   "id": "deab5502-6cf3-4740-8304-1f2e7c888c8e",
   "metadata": {},
   "outputs": [
    {
     "name": "stdin",
     "output_type": "stream",
     "text": [
      "Enter a temperatur in degrees C:  37\n"
     ]
    },
    {
     "name": "stdout",
     "output_type": "stream",
     "text": [
      "37.0 degrees F = 98.60 degrees F\n"
     ]
    },
    {
     "data": {
      "text/plain": [
       "98.60000000000001"
      ]
     },
     "execution_count": 29,
     "metadata": {},
     "output_type": "execute_result"
    }
   ],
   "source": [
    "# F\n",
    "user = input(\"Enter a temperatur in degrees C: \")\n",
    "num = float(user)\n",
    "\n",
    "def convert_cel_to_far(x):\n",
    "    result = (x * 1.8) + 32\n",
    "    print(f\"{num} degrees F = {result:.2f} degrees F\")\n",
    "    return result\n",
    "\n",
    "convert_cel_to_far(num)\n",
    "    "
   ]
  },
  {
   "cell_type": "code",
   "execution_count": null,
   "id": "81f3cfd0-9837-4d21-90b9-f43b64996d8b",
   "metadata": {},
   "outputs": [],
   "source": []
  }
 ],
 "metadata": {
  "kernelspec": {
   "display_name": "anaconda-panel-2023.05-py310",
   "language": "python",
   "name": "conda-env-anaconda-panel-2023.05-py310-py"
  },
  "language_info": {
   "codemirror_mode": {
    "name": "ipython",
    "version": 3
   },
   "file_extension": ".py",
   "mimetype": "text/x-python",
   "name": "python",
   "nbconvert_exporter": "python",
   "pygments_lexer": "ipython3",
   "version": "3.11.5"
  }
 },
 "nbformat": 4,
 "nbformat_minor": 5
}
