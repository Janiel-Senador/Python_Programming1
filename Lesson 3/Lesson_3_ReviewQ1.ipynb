{
 "cells": [
  {
   "cell_type": "markdown",
   "id": "35b9ab36-249b-46d4-a19a-a744613d95cc",
   "metadata": {},
   "source": [
    "# Review Question 1"
   ]
  },
  {
   "cell_type": "code",
   "execution_count": null,
   "id": "00c36aa8-3c2a-4bae-858f-b7b7c36f7590",
   "metadata": {},
   "outputs": [],
   "source": [
    "def cube(x):\n",
    "    thirdPower = x ** 3\n",
    "    return thirdPower\n",
    "\n",
    "print(cube(5))\n",
    "print(cube(6))\n",
    "print(cube(7))"
   ]
  },
  {
   "cell_type": "code",
   "execution_count": null,
   "id": "04b0f0f0-23dd-4f30-bc45-bfcadd8cf764",
   "metadata": {},
   "outputs": [],
   "source": [
    "# USER INPUT VERSION\n",
    "\n",
    "user = input(\"Enter any number: \")\n",
    "num = int(user)\n",
    "\n",
    "def cube(x):\n",
    "    thirdPower = x ** 3\n",
    "    print(f\"The result is: {thirdPower}\")\n",
    "    return thirdPower\n",
    "\n",
    "cube(num)\n"
   ]
  },
  {
   "cell_type": "code",
   "execution_count": null,
   "id": "92d2b75e-b64e-4fd0-aebf-e3491e7f5287",
   "metadata": {},
   "outputs": [],
   "source": [
    "name = input(\"Enter your name: \")\n",
    "\n",
    "def greet(name):\n",
    "    print(f\"Hello {name}!\")\n",
    "greet(name)\n",
    "greet(\"Watashiwa\")"
   ]
  }
 ],
 "metadata": {
  "kernelspec": {
   "display_name": "anaconda-panel-2023.05-py310",
   "language": "python",
   "name": "conda-env-anaconda-panel-2023.05-py310-py"
  },
  "language_info": {
   "codemirror_mode": {
    "name": "ipython",
    "version": 3
   },
   "file_extension": ".py",
   "mimetype": "text/x-python",
   "name": "python",
   "nbconvert_exporter": "python",
   "pygments_lexer": "ipython3",
   "version": "3.11.5"
  }
 },
 "nbformat": 4,
 "nbformat_minor": 5
}
