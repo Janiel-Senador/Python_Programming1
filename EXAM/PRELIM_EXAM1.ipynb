{
 "cells": [
  {
   "cell_type": "markdown",
   "id": "f373f81f-ca1b-471d-905e-971823e6be49",
   "metadata": {},
   "source": [
    "# 1st Long Exam SEPTEMBER 10, 2025"
   ]
  },
  {
   "cell_type": "markdown",
   "id": "ac6ae03f-590f-4ea9-b3f4-c0e6a8a00440",
   "metadata": {},
   "source": [
    "# Janiel Senador ID:23807548"
   ]
  },
  {
   "cell_type": "code",
   "execution_count": 2,
   "id": "ed2dbc24-9f60-4d2e-8421-721513945500",
   "metadata": {},
   "outputs": [
    {
     "name": "stdin",
     "output_type": "stream",
     "text": [
      "Enter your name:  Janiel\n"
     ]
    },
    {
     "name": "stdout",
     "output_type": "stream",
     "text": [
      "Hello, Janiel\n"
     ]
    }
   ],
   "source": [
    "user = input(\"Enter your name: \")\n",
    "print(f\"Hello, {user}\")"
   ]
  },
  {
   "cell_type": "code",
   "execution_count": null,
   "id": "79861edb-ce51-4512-b65e-e5423945027f",
   "metadata": {},
   "outputs": [],
   "source": [
    "n = int(input(\"Enter a number: \"))\n",
    "#num = n.abs()\n",
    "res = n*(n+1)/2\n",
    "print(f\"The sum of you entered integer: {res}\")\n"
   ]
  },
  {
   "cell_type": "code",
   "execution_count": null,
   "id": "e9b683dd-5678-43ce-8fc8-ea541397335b",
   "metadata": {},
   "outputs": [],
   "source": [
    "prompt = input(\"Enter a vowel/alphabet: \")\n",
    "if prompt == 'a' || prompt == 'e' || prompt == 'i' || prompt == 'o' || prompt == 'u':\n",
    "    print(\"You entered a vowel!!!\")\n",
    "elif prompt == 'y':\n",
    "    print(\"sometimes is a vowel and sometimes is a constant\")\n",
    "else:\n",
    "    print(\"You entered a const\")"
   ]
  },
  {
   "cell_type": "code",
   "execution_count": null,
   "id": "85c6e252-a4d3-4bb2-afdd-36cbf93c2651",
   "metadata": {},
   "outputs": [],
   "source": [
    "user = input(\"Enter a palindrome word: \")\n",
    "while True:\n",
    "    if user[1:2] == user[-1:-2]:\n",
    "        print(\"It's a palindrome\")\n",
    "        break\n",
    "    else:\n",
    "        print(\"It's not aq palindrome\")"
   ]
  }
 ],
 "metadata": {
  "kernelspec": {
   "display_name": "anaconda-ai-2024.04-py310",
   "language": "python",
   "name": "conda-env-anaconda-ai-2024.04-py310-py"
  },
  "language_info": {
   "codemirror_mode": {
    "name": "ipython",
    "version": 3
   },
   "file_extension": ".py",
   "mimetype": "text/x-python",
   "name": "python",
   "nbconvert_exporter": "python",
   "pygments_lexer": "ipython3",
   "version": "3.10.13"
  }
 },
 "nbformat": 4,
 "nbformat_minor": 5
}
