{
 "cells": [
  {
   "cell_type": "code",
   "execution_count": 3,
   "id": "b462223b-1fc7-4b89-9abb-20898cbc2090",
   "metadata": {},
   "outputs": [
    {
     "name": "stdout",
     "output_type": "stream",
     "text": [
      "HELLO WORLD!\n",
      "21\n"
     ]
    }
   ],
   "source": [
    "import helpers.string_utils as su\n",
    "from helpers.math_utils import area\n",
    "\n",
    "msg1 = su.shout(\"hello world!\")\n",
    "box1 = area(7, 3)\n",
    "\n",
    "print(msg1)\n",
    "print(box1)\n"
   ]
  },
  {
   "cell_type": "code",
   "execution_count": null,
   "id": "309d39a0-468f-4126-8ca9-ba8208db7689",
   "metadata": {},
   "outputs": [],
   "source": []
  }
 ],
 "metadata": {
  "kernelspec": {
   "display_name": "anaconda-ai-2024.04-py310",
   "language": "python",
   "name": "conda-env-anaconda-ai-2024.04-py310-py"
  },
  "language_info": {
   "codemirror_mode": {
    "name": "ipython",
    "version": 3
   },
   "file_extension": ".py",
   "mimetype": "text/x-python",
   "name": "python",
   "nbconvert_exporter": "python",
   "pygments_lexer": "ipython3",
   "version": "3.10.13"
  }
 },
 "nbformat": 4,
 "nbformat_minor": 5
}
