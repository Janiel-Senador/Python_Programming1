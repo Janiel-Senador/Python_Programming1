{
 "cells": [
  {
   "cell_type": "markdown",
   "id": "31b36993-6eee-4669-85ef-f612f1eb0470",
   "metadata": {},
   "source": [
    "# Activity Review 7"
   ]
  },
  {
   "cell_type": "code",
   "execution_count": 1,
   "id": "1b2670df-da41-470b-86b0-f8fddab3b972",
   "metadata": {},
   "outputs": [
    {
     "name": "stdin",
     "output_type": "stream",
     "text": [
      "Enter any sentence:  abelost\n"
     ]
    },
    {
     "name": "stdout",
     "output_type": "stream",
     "text": [
      "4831057\n"
     ]
    }
   ],
   "source": [
    "ToChange = \"Enter any sentence: \"\n",
    "Pochange = input(ToChange)\n",
    "Change = Pochange.replace(\"a\", \"4\")\n",
    "Change = Change.replace(\"b\", \"8\")\n",
    "Change = Change.replace(\"e\", \"3\")\n",
    "Change = Change.replace(\"l\", \"1\")\n",
    "Change = Change.replace(\"o\", \"0\")\n",
    "Change = Change.replace(\"s\", \"5\")\n",
    "Change = Change.replace(\"t\", \"7\")\n",
    "\n",
    "print(Change)"
   ]
  },
  {
   "cell_type": "code",
   "execution_count": null,
   "id": "c7e9bb28-a8c8-453d-8de1-a48eb662764f",
   "metadata": {},
   "outputs": [],
   "source": []
  }
 ],
 "metadata": {
  "kernelspec": {
   "display_name": "Python 3 (ipykernel)",
   "language": "python",
   "name": "python3"
  },
  "language_info": {
   "codemirror_mode": {
    "name": "ipython",
    "version": 3
   },
   "file_extension": ".py",
   "mimetype": "text/x-python",
   "name": "python",
   "nbconvert_exporter": "python",
   "pygments_lexer": "ipython3",
   "version": "3.13.5"
  }
 },
 "nbformat": 4,
 "nbformat_minor": 5
}
