{
 "cells": [
  {
   "cell_type": "code",
   "execution_count": 20,
   "id": "d5d72ced-eab3-426f-bdc8-ded0cf8b9a3c",
   "metadata": {},
   "outputs": [
    {
     "name": "stdin",
     "output_type": "stream",
     "text": [
      "Tell me your name:  sgrgtujwercfqwgebgvh\n"
     ]
    },
    {
     "name": "stdout",
     "output_type": "stream",
     "text": [
      "Sgrgtujwercfqwgebgvh\n"
     ]
    }
   ],
   "source": [
    "prot = \"Tell me your name: \"\n",
    "inprot = input(prot)\n",
    "inprot1 = inprot.upper()\n",
    "inprot2 = inprot1[0:1]\n",
    "inprot3 = inprot[1:100000000]\n",
    "inprot4 = inprot2 + inprot3\n",
    "print(inprot4)"
   ]
  },
  {
   "cell_type": "code",
   "execution_count": null,
   "id": "98172bf0-b51a-4f87-9425-b6635ba209dc",
   "metadata": {},
   "outputs": [],
   "source": []
  }
 ],
 "metadata": {
  "kernelspec": {
   "display_name": "Python 3 (ipykernel)",
   "language": "python",
   "name": "python3"
  },
  "language_info": {
   "codemirror_mode": {
    "name": "ipython",
    "version": 3
   },
   "file_extension": ".py",
   "mimetype": "text/x-python",
   "name": "python",
   "nbconvert_exporter": "python",
   "pygments_lexer": "ipython3",
   "version": "3.13.5"
  }
 },
 "nbformat": 4,
 "nbformat_minor": 5
}
