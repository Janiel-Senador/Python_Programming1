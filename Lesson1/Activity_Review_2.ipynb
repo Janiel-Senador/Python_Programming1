{
 "cells": [
  {
   "cell_type": "markdown",
   "id": "e29e9134-099d-41aa-8ad3-49177fb2924b",
   "metadata": {},
   "source": [
    "# Activity Review 2"
   ]
  },
  {
   "cell_type": "code",
   "execution_count": 17,
   "id": "70b773c8-660e-4a17-8477-93cf77a0b60a",
   "metadata": {},
   "outputs": [
    {
     "name": "stdout",
     "output_type": "stream",
     "text": [
      "animal , badger , honey bee , honeybadger\n"
     ]
    }
   ],
   "source": [
    "char = \"Animal\"\n",
    "char2 = \"Badger\"\n",
    "char3 = \"Honey Bee\"\n",
    "char4 = \"Honeybadger\"\n",
    "\n",
    "charl = char.lower()\n",
    "charl2 = char2.lower()\n",
    "charl3 = char3.lower()\n",
    "charl4 = char4.lower()\n",
    "\n",
    "print(charl,\",\", charl2,\",\", charl3,\",\", charl4)\n",
    "\n",
    "\n"
   ]
  },
  {
   "cell_type": "code",
   "execution_count": 18,
   "id": "a3cc5b3b-3bc1-4f3b-ad09-24fd531c635f",
   "metadata": {},
   "outputs": [
    {
     "name": "stdout",
     "output_type": "stream",
     "text": [
      "ANIMAL , BADGER , HONEY BEE , HONEYBADGER\n"
     ]
    }
   ],
   "source": [
    "char = \"Animal\"\n",
    "char2 = \"Badger\"\n",
    "char3 = \"Honey Bee\"\n",
    "char4 = \"Honeybadger\"\n",
    "charl = char.upper()\n",
    "charl2 = char2.upper()\n",
    "charl3 = char3.upper()\n",
    "charl4 = char4.upper()\n",
    "\n",
    "print(charl,\",\", charl2,\",\", charl3,\",\", charl4)\n",
    "\n",
    "\n"
   ]
  },
  {
   "cell_type": "code",
   "execution_count": 17,
   "id": "fd5cb199-bf64-4589-8a13-03d827a86afd",
   "metadata": {},
   "outputs": [
    {
     "name": "stdout",
     "output_type": "stream",
     "text": [
      "animal , badger , honey bee , honeybadger\n"
     ]
    }
   ],
   "source": []
  },
  {
   "cell_type": "code",
   "execution_count": 23,
   "id": "e3883139-8a73-42be-9254-3ac36dfb842d",
   "metadata": {},
   "outputs": [
    {
     "name": "stdout",
     "output_type": "stream",
     "text": [
      "Filet Mignon\n",
      "Brisket\n"
     ]
    }
   ],
   "source": [
    "string1 = \" Filet Mignon\"\n",
    "string2 = \"Brisket \"\n",
    "\n",
    "Strip1 = string1.lstrip()\n",
    "Strip2 = string2.rstrip()\n",
    "\n",
    "print(Strip1)\n",
    "print(Strip2)"
   ]
  },
  {
   "cell_type": "code",
   "execution_count": 29,
   "id": "afb38912-9cee-4c13-9945-c665e17f653c",
   "metadata": {},
   "outputs": [
    {
     "name": "stdout",
     "output_type": "stream",
     "text": [
      "False\n",
      "True\n"
     ]
    }
   ],
   "source": [
    "string1 = \"Becomes\"\n",
    "string2 = \"becomes\"\n",
    "Starts1 = string1.startswith(\"be\")\n",
    "Starts2 = string2.startswith(\"be\")\n",
    "print(Starts1)\n",
    "print(Starts2)"
   ]
  },
  {
   "cell_type": "code",
   "execution_count": 28,
   "id": "9a2f08c0-8802-4f70-a6c6-c11910b4a5bd",
   "metadata": {},
   "outputs": [
    {
     "name": "stdout",
     "output_type": "stream",
     "text": [
      "True\n",
      "True\n"
     ]
    }
   ],
   "source": [
    "string1 = \"Becomes\"\n",
    "string2 = \"becomes\"\n",
    "\n",
    "lower1 = string1.lower()\n",
    "\n",
    "Starts1 = lower1.startswith(\"be\")\n",
    "Starts2 = string2.startswith(\"be\")\n",
    "\n",
    "print(Starts1)\n",
    "print(Starts2)"
   ]
  }
 ],
 "metadata": {
  "kernelspec": {
   "display_name": "Python 3 (ipykernel)",
   "language": "python",
   "name": "python3"
  },
  "language_info": {
   "codemirror_mode": {
    "name": "ipython",
    "version": 3
   },
   "file_extension": ".py",
   "mimetype": "text/x-python",
   "name": "python",
   "nbconvert_exporter": "python",
   "pygments_lexer": "ipython3",
   "version": "3.13.5"
  }
 },
 "nbformat": 4,
 "nbformat_minor": 5
}
