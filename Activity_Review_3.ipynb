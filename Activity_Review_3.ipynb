{
 "cells": [
  {
   "cell_type": "markdown",
   "id": "2d3189b7-f85d-4d75-961f-d9fd98728dd6",
   "metadata": {},
   "source": [
    "# Activity Review 3"
   ]
  },
  {
   "cell_type": "code",
   "execution_count": 1,
   "id": "f23123d5-b1ca-4e3c-b673-76e590e1ebb3",
   "metadata": {},
   "outputs": [
    {
     "name": "stdin",
     "output_type": "stream",
     "text": [
      "Enter your name yow:  ola\n"
     ]
    },
    {
     "name": "stdout",
     "output_type": "stream",
     "text": [
      "You entered:  ola\n"
     ]
    }
   ],
   "source": [
    "prot = \"Enter your name yow: \"\n",
    "input2 = input(prot)\n",
    "print(\"You entered: \", input2)"
   ]
  },
  {
   "cell_type": "code",
   "execution_count": 2,
   "id": "c7b3cbe1-08f7-4830-b683-9297dc81229f",
   "metadata": {},
   "outputs": [
    {
     "name": "stdin",
     "output_type": "stream",
     "text": [
      "Enter your name yow:  PAWS\n"
     ]
    },
    {
     "name": "stdout",
     "output_type": "stream",
     "text": [
      "You entered:  paws\n"
     ]
    }
   ],
   "source": [
    "prot = \"Enter your name yow: \"\n",
    "input2 = input(prot)\n",
    "input3 = input2.lower()\n",
    "print(\"You entered: \", input3)"
   ]
  },
  {
   "cell_type": "code",
   "execution_count": 4,
   "id": "064e0510-9771-4240-b279-4ab4549f042e",
   "metadata": {},
   "outputs": [
    {
     "name": "stdin",
     "output_type": "stream",
     "text": [
      "Enter your name yow:  POKLS\n"
     ]
    },
    {
     "name": "stdout",
     "output_type": "stream",
     "text": [
      "You entered:  5\n"
     ]
    }
   ],
   "source": [
    "prot = \"Enter your name yow: \"\n",
    "input2 = input(prot)\n",
    "input3 = len(input2)\n",
    "print(\"You entered: \", input3)"
   ]
  },
  {
   "cell_type": "code",
   "execution_count": null,
   "id": "24d4910c-80b3-4506-819a-a888c18cc78a",
   "metadata": {},
   "outputs": [],
   "source": []
  }
 ],
 "metadata": {
  "kernelspec": {
   "display_name": "Python 3 (ipykernel)",
   "language": "python",
   "name": "python3"
  },
  "language_info": {
   "codemirror_mode": {
    "name": "ipython",
    "version": 3
   },
   "file_extension": ".py",
   "mimetype": "text/x-python",
   "name": "python",
   "nbconvert_exporter": "python",
   "pygments_lexer": "ipython3",
   "version": "3.13.5"
  }
 },
 "nbformat": 4,
 "nbformat_minor": 5
}
