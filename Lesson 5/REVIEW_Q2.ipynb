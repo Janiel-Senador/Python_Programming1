{
 "cells": [
  {
   "cell_type": "code",
   "execution_count": 7,
   "id": "4673a327-c30a-4fe1-9998-f474f2c8ee91",
   "metadata": {},
   "outputs": [
    {
     "data": {
      "text/plain": [
       "['Rice', 'Beans']"
      ]
     },
     "execution_count": 7,
     "metadata": {},
     "output_type": "execute_result"
    }
   ],
   "source": [
    "food = [\"Rice\", \"Beans\"]\n",
    "food"
   ]
  },
  {
   "cell_type": "code",
   "execution_count": 27,
   "id": "fe66043e-9bb3-4dda-b794-ad8c32ec2e4f",
   "metadata": {},
   "outputs": [
    {
     "data": {
      "text/plain": [
       "['Rice', 'Beans', 'Brocolli']"
      ]
     },
     "execution_count": 27,
     "metadata": {},
     "output_type": "execute_result"
    }
   ],
   "source": [
    "food = [\"Rice\", \"Beans\"]\n",
    "food.append(\"Brocolli\")\n",
    "food"
   ]
  },
  {
   "cell_type": "code",
   "execution_count": 28,
   "id": "6a16665c-c25b-4207-9c9a-339483142e89",
   "metadata": {},
   "outputs": [
    {
     "data": {
      "text/plain": [
       "['Rice', 'Beans', 'Banana', 'Dragon Fruit']"
      ]
     },
     "execution_count": 28,
     "metadata": {},
     "output_type": "execute_result"
    }
   ],
   "source": [
    "food = [\"Rice\", \"Beans\"]\n",
    "food.extend([\"Banana\", \"Dragon Fruit\"])\n",
    "food"
   ]
  },
  {
   "cell_type": "code",
   "execution_count": 30,
   "id": "15ff2112-100a-4168-aefa-a906eb22f4e2",
   "metadata": {},
   "outputs": [
    {
     "data": {
      "text/plain": [
       "['Rice', 'Beans']"
      ]
     },
     "execution_count": 30,
     "metadata": {},
     "output_type": "execute_result"
    }
   ],
   "source": [
    "food = [\"Rice\", \"Beans\", \"Banana\", \"Dragon Fruit\"]\n",
    "food[0:2]"
   ]
  },
  {
   "cell_type": "code",
   "execution_count": 34,
   "id": "822b7d47-b059-4dc2-97e7-09f6f2319832",
   "metadata": {},
   "outputs": [
    {
     "data": {
      "text/plain": [
       "'Dragon Fruit'"
      ]
     },
     "execution_count": 34,
     "metadata": {},
     "output_type": "execute_result"
    }
   ],
   "source": [
    "food = [\"Rice\", \"Beans\", \"Banana\", \"Dragon Fruit\"]\n",
    "food[3]"
   ]
  },
  {
   "cell_type": "code",
   "execution_count": 46,
   "id": "641daa13-7b00-4a40-9386-d4a232da3fc6",
   "metadata": {},
   "outputs": [
    {
     "name": "stdout",
     "output_type": "stream",
     "text": [
      "['Eggs', 'Fruit', 'Orange Juice']\n"
     ]
    }
   ],
   "source": [
    "b = \"Eggs, Fruit, Orange Juice\"\n",
    "breakfast = b.split(\", \")\n",
    "print(breakfast)"
   ]
  },
  {
   "cell_type": "code",
   "execution_count": 51,
   "id": "44a18b34-091f-4225-996e-79c3763330db",
   "metadata": {},
   "outputs": [
    {
     "name": "stdout",
     "output_type": "stream",
     "text": [
      "3\n"
     ]
    }
   ],
   "source": [
    "breakfast = [\"Eggs\", \"Fruit\", \"Orange Juice\"]\n",
    "print(len(breakfast))"
   ]
  },
  {
   "cell_type": "code",
   "execution_count": 54,
   "id": "85f0ade6-7423-45c2-875a-556363634cb3",
   "metadata": {},
   "outputs": [
    {
     "name": "stdout",
     "output_type": "stream",
     "text": [
      "[4, 5, 12]\n"
     ]
    }
   ],
   "source": [
    "b = \"Eggs, Fruit, Orange Juice\"\n",
    "breakfast = b.split(\", \")\n",
    "lengths = [len(items) for items in breakfast]\n",
    "print(lengths)"
   ]
  }
 ],
 "metadata": {
  "kernelspec": {
   "display_name": "anaconda-ai-2024.04-py310",
   "language": "python",
   "name": "conda-env-anaconda-ai-2024.04-py310-py"
  },
  "language_info": {
   "codemirror_mode": {
    "name": "ipython",
    "version": 3
   },
   "file_extension": ".py",
   "mimetype": "text/x-python",
   "name": "python",
   "nbconvert_exporter": "python",
   "pygments_lexer": "ipython3",
   "version": "3.10.13"
  }
 },
 "nbformat": 4,
 "nbformat_minor": 5
}
