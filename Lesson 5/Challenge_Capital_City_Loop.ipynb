{
 "cells": [
  {
   "cell_type": "markdown",
   "id": "8e8a609d-f484-490e-8743-0a9662aa7be2",
   "metadata": {},
   "source": [
    "# Challenge Capital City Loop"
   ]
  },
  {
   "cell_type": "code",
   "execution_count": 4,
   "id": "f4f3757a-752e-48e8-b0fe-e2de289c4394",
   "metadata": {},
   "outputs": [
    {
     "name": "stdout",
     "output_type": "stream",
     "text": [
      "'Alabama': 'Montgomery'\n",
      "'Alaska': 'Juneau'\n",
      "'Arizona': 'Phoenix'\n",
      "'Arkansas': 'Little Rock'\n",
      "'California': 'Sacramento'\n",
      "'Colorado': 'Denver'\n",
      "'Connecticut': 'Hartford'\n",
      "'Delaware': 'Dover'\n",
      "'Florida': 'Tallahassee'\n",
      "'Georgia': 'Atlanta'\n"
     ]
    }
   ],
   "source": [
    "capitals_dict = {\n",
    "    'Alabama': 'Montgomery',\n",
    "    'Alaska': 'Juneau',\n",
    "    'Arizona': 'Phoenix',\n",
    "    'Arkansas': 'Little Rock',\n",
    "    'California': 'Sacramento',\n",
    "    'Colorado': 'Denver',\n",
    "    'Connecticut': 'Hartford',\n",
    "    'Delaware': 'Dover',\n",
    "    'Florida': 'Tallahassee',\n",
    "    'Georgia': 'Atlanta',\n",
    "}\n",
    "\n",
    "for key, value in capitals_dict.items():\n",
    "    print(f\"'{key}': '{value}'\")"
   ]
  },
  {
   "cell_type": "code",
   "execution_count": null,
   "id": "1e6d4b58-ae45-4055-91a8-d1178d21fd54",
   "metadata": {},
   "outputs": [],
   "source": []
  }
 ],
 "metadata": {
  "kernelspec": {
   "display_name": "anaconda-ai-2024.04-py310",
   "language": "python",
   "name": "conda-env-anaconda-ai-2024.04-py310-py"
  },
  "language_info": {
   "codemirror_mode": {
    "name": "ipython",
    "version": 3
   },
   "file_extension": ".py",
   "mimetype": "text/x-python",
   "name": "python",
   "nbconvert_exporter": "python",
   "pygments_lexer": "ipython3",
   "version": "3.10.13"
  }
 },
 "nbformat": 4,
 "nbformat_minor": 5
}
