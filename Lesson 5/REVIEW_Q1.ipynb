{
 "cells": [
  {
   "cell_type": "markdown",
   "id": "2b7c578d-8375-4b65-8855-abce5d7b1787",
   "metadata": {},
   "source": [
    "# Review Question 1"
   ]
  },
  {
   "cell_type": "code",
   "execution_count": 1,
   "id": "9e97a8a1-0ea5-4566-9456-39ea000b7f68",
   "metadata": {},
   "outputs": [
    {
     "name": "stdout",
     "output_type": "stream",
     "text": [
      "('First', 'Second', 'Third')\n"
     ]
    }
   ],
   "source": [
    "CARDINAL_NUMBERS = (\"First\", \"Second\", \"Third\")\n",
    "print(CARDINAL_NUMBERS)"
   ]
  },
  {
   "cell_type": "code",
   "execution_count": 2,
   "id": "301afb1c-e90b-481b-822c-def43c3cdaa9",
   "metadata": {},
   "outputs": [
    {
     "name": "stdout",
     "output_type": "stream",
     "text": [
      "Second\n"
     ]
    }
   ],
   "source": [
    "CARDINAL_NUMBERS = (\"First\", \"Second\", \"Third\")\n",
    "print(CARDINAL_NUMBERS[1])"
   ]
  },
  {
   "cell_type": "code",
   "execution_count": 6,
   "id": "ad4d1a7b-c8e4-40fb-8719-fe7d5b3347f3",
   "metadata": {},
   "outputs": [
    {
     "name": "stdout",
     "output_type": "stream",
     "text": [
      "First Second Third\n",
      "First\n",
      "Second\n",
      "Third\n"
     ]
    }
   ],
   "source": [
    "CARDINAL_NUMBERS = (\"First\", \"Second\", \"Third\")\n",
    "(one, two, three) = CARDINAL_NUMBERS\n",
    "print(one, two, three)\n",
    "print(one)\n",
    "print(two)\n",
    "print(three)"
   ]
  },
  {
   "cell_type": "code",
   "execution_count": 7,
   "id": "d033ff13-d2be-46f3-8180-f62b400e3b8a",
   "metadata": {},
   "outputs": [
    {
     "name": "stdout",
     "output_type": "stream",
     "text": [
      "J\n",
      "A\n",
      "N\n",
      "I\n",
      "E\n",
      "L\n"
     ]
    }
   ],
   "source": [
    "my_name = (\"J\", \"A\", \"N\", \"I\", \"E\", \"L\")\n",
    "for name in my_name:\n",
    "    print(name)"
   ]
  },
  {
   "cell_type": "code",
   "execution_count": 17,
   "id": "9d81f925-19eb-4109-ab80-4a4ebde0eedf",
   "metadata": {},
   "outputs": [
    {
     "data": {
      "text/plain": [
       "False"
      ]
     },
     "execution_count": 17,
     "metadata": {},
     "output_type": "execute_result"
    }
   ],
   "source": [
    "my_name = (\"J\", \"A\", \"N\", \"I\", \"E\", \"L\")\n",
    "\"X\" in my_name\n",
    "\n",
    "\n",
    "#if \"X\" == my_name:\n",
    "#    print(\"X is not on your name!!\")\n",
    "#else:\n",
    "#    print(\"There's a X on your name!!!\")"
   ]
  },
  {
   "cell_type": "code",
   "execution_count": 20,
   "id": "d0ba9bb2-23b4-4931-8852-1aa2699ea0cb",
   "metadata": {},
   "outputs": [
    {
     "name": "stdout",
     "output_type": "stream",
     "text": [
      "ANIEL\n"
     ]
    }
   ],
   "source": [
    "my_name = (\"JANIEL\")\n",
    "print(my_name[1:7])"
   ]
  },
  {
   "cell_type": "code",
   "execution_count": null,
   "id": "82882c5b-cede-4910-b2de-0ea971b060a2",
   "metadata": {},
   "outputs": [],
   "source": []
  }
 ],
 "metadata": {
  "kernelspec": {
   "display_name": "anaconda-ai-2024.04-py310",
   "language": "python",
   "name": "conda-env-anaconda-ai-2024.04-py310-py"
  },
  "language_info": {
   "codemirror_mode": {
    "name": "ipython",
    "version": 3
   },
   "file_extension": ".py",
   "mimetype": "text/x-python",
   "name": "python",
   "nbconvert_exporter": "python",
   "pygments_lexer": "ipython3",
   "version": "3.10.13"
  }
 },
 "nbformat": 4,
 "nbformat_minor": 5
}
