{
 "cells": [
  {
   "cell_type": "markdown",
   "id": "8cb3531d-9934-4db1-84d6-b1bc1c654c4c",
   "metadata": {},
   "source": [
    "# Review Question 3"
   ]
  },
  {
   "cell_type": "code",
   "execution_count": 12,
   "id": "5e6f210b-d96d-46d7-9842-c6a88cb58d83",
   "metadata": {},
   "outputs": [
    {
     "name": "stdout",
     "output_type": "stream",
     "text": [
      "([1, 2], [3, 4])\n"
     ]
    }
   ],
   "source": [
    "two_n = ((1,2), (3,4))\n",
    "print(two_n)"
   ]
  },
  {
   "cell_type": "code",
   "execution_count": 15,
   "id": "281ca7d9-bbfc-4311-bfe5-0879e6c1903a",
   "metadata": {},
   "outputs": [
    {
     "name": "stdout",
     "output_type": "stream",
     "text": [
      "([1, 2], [3, 4])\n"
     ]
    }
   ],
   "source": [
    "two_n = ([1,2], [3,4])\n",
    "for n in range(1, 2):\n",
    "    print(two_n)"
   ]
  },
  {
   "cell_type": "code",
   "execution_count": 20,
   "id": "8839373e-74cd-455e-940f-330e3a70fe48",
   "metadata": {},
   "outputs": [
    {
     "name": "stdout",
     "output_type": "stream",
     "text": [
      " Row 1 The sum: 3\n",
      " Row 2 The sum: 7\n"
     ]
    }
   ],
   "source": [
    "data = ((1, 2), (3, 4))\n",
    "for i, nested_tuple in enumerate(data, 1):\n",
    "    tuple_sum = sum(nested_tuple)\n",
    "    print(f\" Row {i} The sum: {tuple_sum}\")"
   ]
  },
  {
   "cell_type": "code",
   "execution_count": 24,
   "id": "74e2400c-0aff-4081-b6ed-771210070df5",
   "metadata": {},
   "outputs": [
    {
     "data": {
      "text/plain": [
       "[1, 2, 3, 4, 5]"
      ]
     },
     "execution_count": 24,
     "metadata": {},
     "output_type": "execute_result"
    }
   ],
   "source": [
    "num = [1, 2, 3, 4, 5]\n",
    "numcop = num[:]\n",
    "numcop"
   ]
  },
  {
   "cell_type": "code",
   "execution_count": 27,
   "id": "84dec2fb-5d7b-46be-a11b-3d9b8372da4b",
   "metadata": {},
   "outputs": [
    {
     "data": {
      "text/plain": [
       "[1, 2, 3, 4, 5]"
      ]
     },
     "execution_count": 27,
     "metadata": {},
     "output_type": "execute_result"
    }
   ],
   "source": [
    "num = [5, 2, 4, 1, 3]\n",
    "num.sort()\n",
    "num"
   ]
  },
  {
   "cell_type": "code",
   "execution_count": null,
   "id": "512b99df-86e1-4448-a2c2-bf04f8fc9dd7",
   "metadata": {},
   "outputs": [],
   "source": []
  },
  {
   "cell_type": "code",
   "execution_count": null,
   "id": "d89653e5-4912-4c9e-8f36-fcb4fde47a6c",
   "metadata": {},
   "outputs": [],
   "source": []
  }
 ],
 "metadata": {
  "kernelspec": {
   "display_name": "anaconda-ai-2024.04-py310",
   "language": "python",
   "name": "conda-env-anaconda-ai-2024.04-py310-py"
  },
  "language_info": {
   "codemirror_mode": {
    "name": "ipython",
    "version": 3
   },
   "file_extension": ".py",
   "mimetype": "text/x-python",
   "name": "python",
   "nbconvert_exporter": "python",
   "pygments_lexer": "ipython3",
   "version": "3.10.13"
  }
 },
 "nbformat": 4,
 "nbformat_minor": 5
}
