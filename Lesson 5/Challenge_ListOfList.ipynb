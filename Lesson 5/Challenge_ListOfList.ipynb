{
 "cells": [
  {
   "cell_type": "markdown",
   "id": "090725ff-90ce-4463-a475-31f627791aef",
   "metadata": {},
   "source": [
    "# Challenge List Of List"
   ]
  },
  {
   "cell_type": "code",
   "execution_count": 2,
   "id": "afc8770a-ffc4-44c2-b67c-242b24e006df",
   "metadata": {},
   "outputs": [
    {
     "data": {
      "text/plain": [
       "[['California Institute of Technology', 2175, 37704],\n",
       " ['Harvard', 19627, 39849],\n",
       " ['Massachusetts Institute of Technology', 10566, 40732],\n",
       " ['Princeton', 7802, 37000],\n",
       " ['Rice', 5879, 35551],\n",
       " ['Stanford', 19535, 40569],\n",
       " ['Yale', 11701, 40500]]"
      ]
     },
     "execution_count": 2,
     "metadata": {},
     "output_type": "execute_result"
    }
   ],
   "source": [
    "universities = [\n",
    "    ['California Institute of Technology', 2175, 37704],\n",
    "    ['Harvard', 19627, 39849],\n",
    "    ['Massachusetts Institute of Technology', 10566, 40732],\n",
    "    ['Princeton', 7802, 37000],\n",
    "    ['Rice', 5879, 35551],\n",
    "    ['Stanford', 19535, 40569],\n",
    "    ['Yale', 11701, 40500]\n",
    "]\n",
    "universities"
   ]
  }
 ],
 "metadata": {
  "kernelspec": {
   "display_name": "anaconda-ai-2024.04-py310",
   "language": "python",
   "name": "conda-env-anaconda-ai-2024.04-py310-py"
  },
  "language_info": {
   "codemirror_mode": {
    "name": "ipython",
    "version": 3
   },
   "file_extension": ".py",
   "mimetype": "text/x-python",
   "name": "python",
   "nbconvert_exporter": "python",
   "pygments_lexer": "ipython3",
   "version": "3.10.13"
  }
 },
 "nbformat": 4,
 "nbformat_minor": 5
}
