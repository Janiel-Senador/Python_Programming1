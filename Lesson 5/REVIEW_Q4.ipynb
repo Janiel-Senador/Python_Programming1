{
 "cells": [
  {
   "cell_type": "markdown",
   "id": "4cd938de-a3f5-46cd-9fa5-b6864ee862e1",
   "metadata": {},
   "source": [
    "# Review Question 4"
   ]
  },
  {
   "cell_type": "code",
   "execution_count": 25,
   "id": "1f1e7ab4-f4c2-42aa-9972-946f650ecea1",
   "metadata": {},
   "outputs": [],
   "source": [
    "crew = {}\n",
    "captain = dict(crew)"
   ]
  },
  {
   "cell_type": "code",
   "execution_count": 41,
   "id": "a52014f7-90e2-4c58-9730-45619ffee8a6",
   "metadata": {},
   "outputs": [
    {
     "name": "stdout",
     "output_type": "stream",
     "text": [
      "'Enterprise': 'Picard'\n",
      "'Voyager': 'Janeway'\n",
      "'Defiant': 'Sisko'\n"
     ]
    }
   ],
   "source": [
    "var = {}\n",
    "\n",
    "var['Enterprise'] = 'Picard'\n",
    "var['Voyager'] = 'Janeway'\n",
    "var['Defiant'] = 'Sisko'\n",
    "\n",
    "for key, value in var.items():\n",
    "    print(f\"'{key}': '{value}'\")"
   ]
  },
  {
   "cell_type": "code",
   "execution_count": 49,
   "id": "65ae9154-c8b2-4b05-acf7-8837652ba013",
   "metadata": {},
   "outputs": [
    {
     "name": "stdout",
     "output_type": "stream",
     "text": [
      "Enterprise: Picard\n",
      "Voyager: Janeway\n",
      "Defiant: Sisko\n",
      "Discovery: Unknown\n"
     ]
    }
   ],
   "source": [
    "var = (\n",
    "    [\"Enterprise\", \"Picard\"],\n",
    "    [\"Voyager\", \"Janeway\"],\n",
    "    [\"Defiant\", \"Sisko\"]\n",
    ")\n",
    "var2 = dict(var)\n",
    "if \"Enterprise\" not in var2:\n",
    "    var2[\"Enterprise\"] = \"Unknown\"\n",
    "if \"Discovery\" not in var2:\n",
    "    var2[\"Discovery\"] = \"Unknown\"\n",
    "\n",
    "for key, value in var2.items():\n",
    "    print(f\"{key}: {value}\")"
   ]
  },
  {
   "cell_type": "code",
   "execution_count": 51,
   "id": "beeecb5f-8aa7-40f6-aef8-4f9c5b32e8c7",
   "metadata": {},
   "outputs": [
    {
     "name": "stdout",
     "output_type": "stream",
     "text": [
      "The Enterprise captain by Picard.\n",
      "The Voyager captain by Janeway.\n",
      "The Defiant captain by Sisko.\n"
     ]
    }
   ],
   "source": [
    "var = (\n",
    "    [\"Enterprise\", \"Picard\"],\n",
    "    [\"Voyager\", \"Janeway\"],\n",
    "    [\"Defiant\", \"Sisko\"]\n",
    ")\n",
    "var2 = dict(var)\n",
    "for key, value in var2.items():\n",
    "    print(f\"The {key} captain by {value}.\")"
   ]
  },
  {
   "cell_type": "code",
   "execution_count": 52,
   "id": "5a422383-5e38-46b7-a498-0b074fa5b124",
   "metadata": {},
   "outputs": [
    {
     "name": "stdout",
     "output_type": "stream",
     "text": [
      "Enterprise: Picard\n",
      "Voyager: Janeway\n",
      "Defiant: Sisko\n"
     ]
    }
   ],
   "source": [
    "var = (\n",
    "    [\"Enterprise\", \"Picard\"],\n",
    "    [\"Voyager\", \"Janeway\"],\n",
    "    [\"Defiant\", \"Sisko\"]\n",
    ")\n",
    "var2 = dict(var)\n",
    "if \"Enterprise\" not in var2:\n",
    "    var2[\"Enterprise\"] = \"Unknown\"\n",
    "if \"Discovery\" not in var2:\n",
    "    var2[\"Discovery\"] = \"Unknown\"\n",
    "del var2[\"Discovery\"]\n",
    "for key, value in var2.items():\n",
    "    print(f\"{key}: {value}\")\n"
   ]
  },
  {
   "cell_type": "code",
   "execution_count": 55,
   "id": "b6ad0347-74f5-41ae-bf08-c91a7f2e0044",
   "metadata": {},
   "outputs": [
    {
     "name": "stdout",
     "output_type": "stream",
     "text": [
      "{'Enterprise': 'Picard', 'Voyager': 'Janeway', 'Defiant': 'Sisko'}\n"
     ]
    }
   ],
   "source": [
    "var = (\n",
    "    [\"Enterprise\", \"Picard\"],\n",
    "    [\"Voyager\", \"Janeway\"],\n",
    "    [\"Defiant\", \"Sisko\"]\n",
    ")\n",
    "var2 = dict(var)\n",
    "print(var2)"
   ]
  },
  {
   "cell_type": "code",
   "execution_count": null,
   "id": "6ba538e1-1eaf-4db2-a23e-f498073c06cb",
   "metadata": {},
   "outputs": [],
   "source": []
  }
 ],
 "metadata": {
  "kernelspec": {
   "display_name": "anaconda-ai-2024.04-py310",
   "language": "python",
   "name": "conda-env-anaconda-ai-2024.04-py310-py"
  },
  "language_info": {
   "codemirror_mode": {
    "name": "ipython",
    "version": 3
   },
   "file_extension": ".py",
   "mimetype": "text/x-python",
   "name": "python",
   "nbconvert_exporter": "python",
   "pygments_lexer": "ipython3",
   "version": "3.10.13"
  }
 },
 "nbformat": 4,
 "nbformat_minor": 5
}
