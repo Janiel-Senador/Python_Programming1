{
 "cells": [
  {
   "cell_type": "markdown",
   "id": "d5b7f070-363d-498c-bc0a-6f71df89a954",
   "metadata": {},
   "source": [
    "# Challenge Wax Poetic"
   ]
  },
  {
   "cell_type": "code",
   "execution_count": 2,
   "id": "90f4fcd2-ff8b-48ca-b811-b99a4f66b76e",
   "metadata": {},
   "outputs": [
    {
     "name": "stdout",
     "output_type": "stream",
     "text": [
      "NOUNS: ['FOSSIL', 'HORSE', 'AARDVARK', 'JUDGE', 'CHEF', 'MANGO', 'EXTROVERT', 'GORILLA']\n",
      "VERBS: ['KICKS', 'JINGLES', 'BOUNCES', 'SLURPS', 'MEOWS', 'EXPLODES', 'CURDLES']\n",
      "ADJECTIVES: ['FURRY', 'BALDING', 'INCREDULOUS', 'FRAGRANT', 'EXUBERANT', 'GLISTENING']\n",
      "PREPOSITIONS: ['AGAINST', 'AFTER', 'INTO', 'BENEATH', 'UPON', 'FOR', 'IN', 'LIKE', 'OVER', 'WITHIN']\n",
      "ADVERBS: ['CURIOUSLY', 'FURIOUSLY', 'SENSUOUSLY', 'EXTRAVAGANTLY', 'TANTALIZINGLY']\n"
     ]
    }
   ],
   "source": [
    "NOUNS = [\"FOSSIL\",\"HORSE\",\"AARDVARK\",\"JUDGE\",\"CHEF\",\"MANGO\",\"EXTROVERT\",\"GORILLA\"]\n",
    "VERBS = [\"KICKS\",\"JINGLES\",\"BOUNCES\",\"SLURPS\",\"MEOWS\",\"EXPLODES\",\"CURDLES\"]\n",
    "ADJECTIVES = [\"FURRY\",\"BALDING\",\"INCREDULOUS\",\"FRAGRANT\",\"EXUBERANT\",\"GLISTENING\"]\n",
    "PREPOSITIONS = [\"AGAINST\",\"AFTER\",\"INTO\",\"BENEATH\",\"UPON\",\"FOR\",\"IN\",\"LIKE\",\"OVER\",\"WITHIN\"]\n",
    "ADVERBS = [\"CURIOUSLY\",\"FURIOUSLY\",\"SENSUOUSLY\", \"EXTRAVAGANTLY\",\"TANTALIZINGLY\"]\n",
    "print(\"NOUNS:\", nouns)\n",
    "print(\"VERBS:\", verbs)\n",
    "print(\"ADJECTIVES:\", adjectives)\n",
    "print(\"PREPOSITIONS:\", prepositions)\n",
    "print(\"ADVERBS:\", adverbs)"
   ]
  },
  {
   "cell_type": "code",
   "execution_count": null,
   "id": "d11330e9-b973-42db-8e21-69c9bb1c11f9",
   "metadata": {},
   "outputs": [],
   "source": []
  }
 ],
 "metadata": {
  "kernelspec": {
   "display_name": "anaconda-ai-2024.04-py310",
   "language": "python",
   "name": "conda-env-anaconda-ai-2024.04-py310-py"
  },
  "language_info": {
   "codemirror_mode": {
    "name": "ipython",
    "version": 3
   },
   "file_extension": ".py",
   "mimetype": "text/x-python",
   "name": "python",
   "nbconvert_exporter": "python",
   "pygments_lexer": "ipython3",
   "version": "3.10.13"
  }
 },
 "nbformat": 4,
 "nbformat_minor": 5
}
