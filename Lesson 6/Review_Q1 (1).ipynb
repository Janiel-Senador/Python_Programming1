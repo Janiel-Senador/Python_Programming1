{
 "cells": [
  {
   "cell_type": "markdown",
   "id": "910a720d-3bf3-4f98-9d30-70b1c3dd7699",
   "metadata": {},
   "source": [
    "# Review Question 1"
   ]
  },
  {
   "cell_type": "code",
   "execution_count": 19,
   "id": "afc91357-e7df-4bba-a335-90fd5a605f56",
   "metadata": {},
   "outputs": [
    {
     "name": "stdout",
     "output_type": "stream",
     "text": [
      "Philo's coat is brown\n"
     ]
    }
   ],
   "source": [
    "class Dog:\n",
    "    species = \"Aspin\"\n",
    "    def __init__(self, name, age, coat_color):\n",
    "        self.name = name\n",
    "        self.age = age\n",
    "        self.coat_color = coat_color\n",
    "\n",
    "philo = Dog(\"Philo\", 5, \"brown\")\n",
    "print(f\"{philo.name}'s coat is {philo.coat_color}\")\n"
   ]
  },
  {
   "cell_type": "code",
   "execution_count": 51,
   "id": "b0d9e78e-c097-41c5-a9f3-ef5fb1992556",
   "metadata": {},
   "outputs": [
    {
     "name": "stdout",
     "output_type": "stream",
     "text": [
      "The blue car has 20,000 miles.\n",
      "The red car has 30,000 miles.\n"
     ]
    }
   ],
   "source": [
    "class Car:\n",
    "    brand = \"Lamborghinia\"\n",
    "    def __init__(self, color, mileage):\n",
    "        self.color = color\n",
    "        self.mileage = mileage\n",
    "\n",
    "    def __str__(self):\n",
    "        return f\"{self.color}{self.mileage}\"\n",
    "\n",
    "\n",
    "blue = Car(\"blue\", 20_000)\n",
    "red = Car(\"red\", 30_000)\n",
    "print(f\"The {blue.color} car has {blue.mileage:,} miles.\")\n",
    "print(f\"The {red.color} car has {red.mileage:,} miles.\")"
   ]
  },
  {
   "cell_type": "code",
   "execution_count": 49,
   "id": "c1fd55bd-e675-4fd6-9ccf-190589c39d78",
   "metadata": {},
   "outputs": [
    {
     "name": "stdout",
     "output_type": "stream",
     "text": [
      "The Green car has 100 miles.\n"
     ]
    }
   ],
   "source": [
    "class Car:\n",
    "    brand = \"Lamborghinia\"\n",
    "    def __init__(self, color, mileage):\n",
    "        self.color = color\n",
    "        self.mileage = mileage\n",
    "\n",
    "    def drive(self, miles):\n",
    "        self.mileage += miles\n",
    "        return f\"The {self.color} car has {self.mileage} miles.\"\n",
    "\n",
    "green = Car(\"Green\", 0)\n",
    "print(green.drive(100))"
   ]
  },
  {
   "cell_type": "code",
   "execution_count": null,
   "id": "ec409272-483c-4314-a4aa-2a29d4924346",
   "metadata": {},
   "outputs": [],
   "source": []
  }
 ],
 "metadata": {
  "kernelspec": {
   "display_name": "anaconda-ai-2024.04-py310",
   "language": "python",
   "name": "conda-env-anaconda-ai-2024.04-py310-py"
  },
  "language_info": {
   "codemirror_mode": {
    "name": "ipython",
    "version": 3
   },
   "file_extension": ".py",
   "mimetype": "text/x-python",
   "name": "python",
   "nbconvert_exporter": "python",
   "pygments_lexer": "ipython3",
   "version": "3.10.13"
  }
 },
 "nbformat": 4,
 "nbformat_minor": 5
}
