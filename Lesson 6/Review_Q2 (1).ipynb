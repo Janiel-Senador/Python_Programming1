{
 "cells": [
  {
   "cell_type": "markdown",
   "id": "a021b645-92a3-433e-9a06-1ee8ac5163dd",
   "metadata": {},
   "source": [
    "# Review Question 2"
   ]
  },
  {
   "cell_type": "code",
   "execution_count": 7,
   "id": "c93c6ac2-22b2-494d-bc6d-b25c3868bcc4",
   "metadata": {},
   "outputs": [
    {
     "name": "stdout",
     "output_type": "stream",
     "text": [
      "Lam speaks Arf\n",
      "Lam speaks AWOOOOO\n"
     ]
    }
   ],
   "source": [
    "class Dog:\n",
    "    breed = \"Mahalon na iro\"\n",
    "    def __init__(self, name, age):\n",
    "        self.name = name\n",
    "        self.age = age\n",
    "    def __str__(self):\n",
    "        return f\"{self.name} is a {self.breed}\"\n",
    "    def speak(self, sound):\n",
    "        return f\"{self.name} speaks {sound}\"\n",
    "\n",
    "class GoldenRetriever(Dog):\n",
    "    def speak(self, sound=\"Arf\"):\n",
    "        return f\"{self.name} speaks {sound}\"\n",
    "bud = GoldenRetriever(\"Lam\", 3)\n",
    "print(bud.speak())\n",
    "print(bud.speak(\"AWOOOOO\"))"
   ]
  },
  {
   "cell_type": "code",
   "execution_count": 52,
   "id": "c5859110-51d8-48e0-98a7-c637e95f23ea",
   "metadata": {},
   "outputs": [
    {
     "name": "stdout",
     "output_type": "stream",
     "text": [
      "12\n",
      "Area of square: 16\n"
     ]
    }
   ],
   "source": [
    "class Rectangle:\n",
    "    def __init__(self, length, width):\n",
    "        self.length = length\n",
    "        self.width = width\n",
    "\n",
    "    def area(self):\n",
    "        return self.length * self.width\n",
    "\n",
    "class Square(Rectangle):\n",
    "    def __init__(self, side_length):\n",
    "        super().__init__(side_length, side_length)\n",
    "\n",
    "rec = Rectangle(3, 4)\n",
    "print(rec.area())\n",
    "my_square = Square(4)\n",
    "print(\"Area of square:\", my_square.area())\n"
   ]
  },
  {
   "cell_type": "code",
   "execution_count": null,
   "id": "ba9807d2-9471-48cf-aafe-87b590352ed6",
   "metadata": {},
   "outputs": [],
   "source": []
  }
 ],
 "metadata": {
  "kernelspec": {
   "display_name": "anaconda-ai-2024.04-py310",
   "language": "python",
   "name": "conda-env-anaconda-ai-2024.04-py310-py"
  },
  "language_info": {
   "codemirror_mode": {
    "name": "ipython",
    "version": 3
   },
   "file_extension": ".py",
   "mimetype": "text/x-python",
   "name": "python",
   "nbconvert_exporter": "python",
   "pygments_lexer": "ipython3",
   "version": "3.10.13"
  }
 },
 "nbformat": 4,
 "nbformat_minor": 5
}
