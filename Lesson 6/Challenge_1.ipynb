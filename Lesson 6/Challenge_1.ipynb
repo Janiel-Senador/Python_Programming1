{
 "cells": [
  {
   "cell_type": "markdown",
   "id": "c511d0bc-a750-4d56-941d-68110832984e",
   "metadata": {},
   "source": [
    "# Challenge 1"
   ]
  },
  {
   "cell_type": "code",
   "execution_count": 22,
   "id": "3aa77676-e563-4d7f-95ef-be31dbe6cb4b",
   "metadata": {},
   "outputs": [
    {
     "name": "stdout",
     "output_type": "stream",
     "text": [
      "The sound of Jan is Chirp\n",
      "Jan is eating\n",
      "Jan is sleeping\n",
      "Jan is protecting her eggs\n",
      "None\n",
      "The sound of Pon is Meow\n",
      "Pon is eating\n",
      "Pon is sleeping\n",
      "Pon breastfeeding her kitten\n",
      "The sound of Dan is Bark\n",
      "Dan is eating\n",
      "Dan is sleeping\n",
      "Dan is protecting his owner's house\n"
     ]
    }
   ],
   "source": [
    "class Animal:\n",
    "    def __init__(self, name, age, sound):\n",
    "        self.name = name\n",
    "        self.age = age\n",
    "        self.sound = sound\n",
    "\n",
    "    def speak(self):\n",
    "        return f\"The sound of {self.name} is {self.sound}\"\n",
    "\n",
    "    def sleep(self):\n",
    "        return f\"{self.name} is sleeping\"\n",
    "\n",
    "    def eat(self):\n",
    "        return f\"{self.name} is eating\"\n",
    "\n",
    "class Bird(Animal):\n",
    "    def __init__(self, name, age):\n",
    "        super().__init__(name, age, \"Chirp\")\n",
    "        \n",
    "    def nest(self):\n",
    "        print(f\"{self.name} is protecting her eggs\")\n",
    "\n",
    "class Cat(Animal):\n",
    "    def __init__(self, name, age):\n",
    "        super().__init__(name, age, \"Meow\")\n",
    "\n",
    "    def kittens(self):\n",
    "        return f\"{self.name} breastfeeding her kitten\"\n",
    "\n",
    "class Dog(Animal):\n",
    "    def __init__(self, name, age):\n",
    "        super().__init__(name, age, \"Bark\")\n",
    "\n",
    "    def protect(self):\n",
    "        return f\"{self.name} is protecting his owner's house\"\n",
    "\n",
    "Jan = Bird(\"Jan\", 3)\n",
    "Pon = Cat(\"Pon\", 4)\n",
    "Dan = Dog(\"Dan\", 5)\n",
    "\n",
    "print(Jan.speak())\n",
    "print(Jan.eat())\n",
    "print(Jan.sleep())\n",
    "print(Jan.nest())\n",
    "\n",
    "print(Pon.speak())\n",
    "print(Pon.eat())\n",
    "print(Pon.sleep())\n",
    "print(Pon.kittens())\n",
    "print(-*)\n",
    "print(Dan.speak())\n",
    "print(Dan.eat())\n",
    "print(Dan.sleep())\n",
    "print(Dan.protect())"
   ]
  },
  {
   "cell_type": "code",
   "execution_count": null,
   "id": "8a7543f0-15fc-4d0f-beac-17d86e34302f",
   "metadata": {},
   "outputs": [],
   "source": []
  }
 ],
 "metadata": {
  "kernelspec": {
   "display_name": "anaconda-ai-2024.04-py310",
   "language": "python",
   "name": "conda-env-anaconda-ai-2024.04-py310-py"
  },
  "language_info": {
   "codemirror_mode": {
    "name": "ipython",
    "version": 3
   },
   "file_extension": ".py",
   "mimetype": "text/x-python",
   "name": "python",
   "nbconvert_exporter": "python",
   "pygments_lexer": "ipython3",
   "version": "3.10.13"
  }
 },
 "nbformat": 4,
 "nbformat_minor": 5
}
