{
 "cells": [
  {
   "cell_type": "markdown",
   "id": "f4d68d7f-269f-42ba-ade1-21859df7b80a",
   "metadata": {},
   "source": [
    "# Review Question 4"
   ]
  },
  {
   "cell_type": "code",
   "execution_count": 8,
   "id": "67c742b8-1d84-407f-b0f3-e3817af246ae",
   "metadata": {},
   "outputs": [
    {
     "name": "stdin",
     "output_type": "stream",
     "text": [
      "Please enter the first number:  1.5\n",
      "Please enter the second number:  .5\n"
     ]
    },
    {
     "name": "stdout",
     "output_type": "stream",
     "text": [
      "First number: 1.5\n",
      "Second number: 0.5\n",
      "Difference: 1.0\n",
      "The difference between the two numbers is an integer? True!\n"
     ]
    }
   ],
   "source": [
    "first_input = input(\"Please enter the first number: \")\n",
    "second_input = input(\"Please enter the second number: \")\n",
    "\n",
    "try:\n",
    "    num1 = float(first_input)\n",
    "    num2 = float(second_input)\n",
    "\n",
    "    difference = num1 - num2\n",
    "\n",
    "    is_integer = difference == int(difference)\n",
    "\n",
    "    print(f\"First number: {num1}\")\n",
    "    print(f\"Second number: {num2}\")\n",
    "    print(f\"Difference: {difference}\")\n",
    "    \n",
    "    if is_integer:\n",
    "        print(\"The difference between the two numbers is an integer? True!\")\n",
    "    else:\n",
    "        print(\"The difference between the two numbers is an integer? False!\")\n",
    "        \n",
    "except ValueError:\n",
    "    print(\"Error: Please enter valid numbers.\")"
   ]
  },
  {
   "cell_type": "code",
   "execution_count": null,
   "id": "7d826f7f-aaf9-4bc2-8404-694fb0af8244",
   "metadata": {},
   "outputs": [],
   "source": []
  },
  {
   "cell_type": "code",
   "execution_count": null,
   "id": "00c9de04-6a67-4f44-9d0e-8a0690a60770",
   "metadata": {},
   "outputs": [],
   "source": []
  }
 ],
 "metadata": {
  "kernelspec": {
   "display_name": "anaconda-panel-2023.05-py310",
   "language": "python",
   "name": "conda-env-anaconda-panel-2023.05-py310-py"
  },
  "language_info": {
   "codemirror_mode": {
    "name": "ipython",
    "version": 3
   },
   "file_extension": ".py",
   "mimetype": "text/x-python",
   "name": "python",
   "nbconvert_exporter": "python",
   "pygments_lexer": "ipython3",
   "version": "3.11.5"
  }
 },
 "nbformat": 4,
 "nbformat_minor": 5
}
