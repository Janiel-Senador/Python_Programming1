{
 "cells": [
  {
   "cell_type": "markdown",
   "id": "778e779e-1668-47be-9acf-461ea082495a",
   "metadata": {},
   "source": [
    "# Basic Practice "
   ]
  },
  {
   "cell_type": "code",
   "execution_count": 3,
   "id": "775fca01-871c-4a2b-8c62-63435cc18e25",
   "metadata": {},
   "outputs": [
    {
     "name": "stdout",
     "output_type": "stream",
     "text": [
      "Pass\n",
      "These examples show how whitespace can make operator precedence clearer!\n",
      "result1 (a*b + c*d): 26\n",
      "total (base_price*quantity + shipping_cost): $82.97\n",
      "area (length*width + 2*margin): 5020\n",
      "is_valid: True\n"
     ]
    }
   ],
   "source": [
    "a, b, c, d = 2, 3, 4, 5\n",
    "x, y = 10, 15\n",
    "base_price, quantity, shipping_cost = 25.99, 3, 5.00\n",
    "length, width, margin = 100, 50, 10\n",
    "score, passing_grade, attempts, max_attempts = 85, 70, 2, 3\n",
    "shift_amount, offset = 4, 2\n",
    "base_flags, user_flags, permission_mask = 0b1010, 0b1100, 0b1111\n",
    "\n",
    "result1 = a*b + c*d \n",
    "result2 = x**2 + y**2\n",
    "result3 = a + b*c - d  \n",
    "\n",
    "\n",
    "total = base_price*quantity + shipping_cost\n",
    "area = length*width + 2*margin\n",
    "formula = a*x**2 + b*x + c\n",
    "\n",
    "\n",
    "if score >= passing_grade and attempts <= max_attempts:\n",
    "    print(\"Pass\")\n",
    "\n",
    "mask = 0xFF << shift_amount + offset\n",
    "flags = base_flags | user_flags & permission_mask\n",
    "\n",
    "handling_fee = 2.50\n",
    "height = 25\n",
    "price_with_tax = base_price*1.08 + handling_fee\n",
    "is_valid = length>0 and width>0 and height>0\n",
    "\n",
    "print(\"These examples show how whitespace can make operator precedence clearer!\")\n",
    "print(f\"result1 (a*b + c*d): {result1}\")\n",
    "print(f\"total (base_price*quantity + shipping_cost): ${total:.2f}\")\n",
    "print(f\"area (length*width + 2*margin): {area}\")\n",
    "print(f\"is_valid: {is_valid}\")"
   ]
  },
  {
   "cell_type": "code",
   "execution_count": null,
   "id": "e1cb684a-e46b-4c8c-8911-c6480e7bec75",
   "metadata": {},
   "outputs": [],
   "source": []
  }
 ],
 "metadata": {
  "kernelspec": {
   "display_name": "anaconda-panel-2023.05-py310",
   "language": "python",
   "name": "conda-env-anaconda-panel-2023.05-py310-py"
  },
  "language_info": {
   "codemirror_mode": {
    "name": "ipython",
    "version": 3
   },
   "file_extension": ".py",
   "mimetype": "text/x-python",
   "name": "python",
   "nbconvert_exporter": "python",
   "pygments_lexer": "ipython3",
   "version": "3.11.5"
  }
 },
 "nbformat": 4,
 "nbformat_minor": 5
}
