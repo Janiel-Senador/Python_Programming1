{
 "cells": [
  {
   "cell_type": "markdown",
   "id": "50f1e329-fbf0-4ea1-9333-ef91281b10cf",
   "metadata": {},
   "source": [
    "# Activity Review 2"
   ]
  },
  {
   "cell_type": "code",
   "execution_count": 12,
   "id": "64330c2b-cef0-4897-9b2f-bffce32ed8cc",
   "metadata": {},
   "outputs": [
    {
     "name": "stdin",
     "output_type": "stream",
     "text": [
      "Enter a base:  1.2\n",
      "Enter a exponent:  3\n"
     ]
    },
    {
     "name": "stdout",
     "output_type": "stream",
     "text": [
      "1.7279999999999998\n"
     ]
    }
   ],
   "source": [
    "ohaha = \"Enter a base: \"\n",
    "inpu1 = input(ohaha)\n",
    "ohaha2 = \"Enter a exponent: \"\n",
    "inpu2 = input(ohaha2)\n",
    "\n",
    "res = float(inpu1) ** int(inpu2)\n",
    "\n",
    "print(res)"
   ]
  },
  {
   "cell_type": "code",
   "execution_count": null,
   "id": "c872120b-9554-4faa-a5f1-fb550a5b0587",
   "metadata": {},
   "outputs": [],
   "source": []
  },
  {
   "cell_type": "code",
   "execution_count": null,
   "id": "231f4901-37c3-416a-8948-ac96c62bda9c",
   "metadata": {},
   "outputs": [],
   "source": []
  }
 ],
 "metadata": {
  "kernelspec": {
   "display_name": "anaconda-panel-2023.05-py310",
   "language": "python",
   "name": "conda-env-anaconda-panel-2023.05-py310-py"
  },
  "language_info": {
   "codemirror_mode": {
    "name": "ipython",
    "version": 3
   },
   "file_extension": ".py",
   "mimetype": "text/x-python",
   "name": "python",
   "nbconvert_exporter": "python",
   "pygments_lexer": "ipython3",
   "version": "3.11.5"
  }
 },
 "nbformat": 4,
 "nbformat_minor": 5
}
