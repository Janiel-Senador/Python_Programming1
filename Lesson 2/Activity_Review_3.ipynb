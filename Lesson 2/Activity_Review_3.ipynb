{
 "cells": [
  {
   "cell_type": "markdown",
   "id": "ca7acaa0-f51a-45dc-b5d7-91cd2e08ec72",
   "metadata": {},
   "source": [
    "# Activity Review 3"
   ]
  },
  {
   "cell_type": "code",
   "execution_count": 2,
   "id": "a50a79c5-e574-4d53-be6e-ea74e1f9d64a",
   "metadata": {},
   "outputs": [
    {
     "name": "stdin",
     "output_type": "stream",
     "text": [
      "Enter a number:  5.432\n"
     ]
    },
    {
     "name": "stdout",
     "output_type": "stream",
     "text": [
      "5\n"
     ]
    }
   ],
   "source": [
    "usarh = input(\"Enter a number: \")\n",
    "deci = float(usarh)\n",
    "\n",
    "print(round(deci))"
   ]
  },
  {
   "cell_type": "code",
   "execution_count": null,
   "id": "4b6f1ef7-2e8c-497f-8e13-34d08cce10b8",
   "metadata": {},
   "outputs": [],
   "source": [
    "user_input = input(\"Please enter a number: \")\n",
    "try:\n",
    "    number = float(user_input)\n",
    "    rounded_number = round(number, 2)\n",
    "    print(f\"Your number rounded to two decimal places: {rounded_number}\")\n",
    "    \n",
    "except ValueError:\n",
    "    print(\"Error: Please enter a valid number.\")"
   ]
  },
  {
   "cell_type": "code",
   "execution_count": 5,
   "id": "b603dcf6-aa41-4e3e-9284-3e95361d3753",
   "metadata": {},
   "outputs": [
    {
     "name": "stdin",
     "output_type": "stream",
     "text": [
      "Enter a number:  -10\n"
     ]
    },
    {
     "name": "stdout",
     "output_type": "stream",
     "text": [
      "The absolute value of  -10 is  10.0\n"
     ]
    }
   ],
   "source": [
    "user = input(\"Enter a number: \")\n",
    "flt = float(user)\n",
    "\n",
    "print(\"The absolute value of \",user,\"is \" ,abs(flt))\n"
   ]
  },
  {
   "cell_type": "code",
   "execution_count": null,
   "id": "dedd7bb9-be11-471f-9d5f-70e5f3ea4eb8",
   "metadata": {},
   "outputs": [],
   "source": []
  }
 ],
 "metadata": {
  "kernelspec": {
   "display_name": "anaconda-panel-2023.05-py310",
   "language": "python",
   "name": "conda-env-anaconda-panel-2023.05-py310-py"
  },
  "language_info": {
   "codemirror_mode": {
    "name": "ipython",
    "version": 3
   },
   "file_extension": ".py",
   "mimetype": "text/x-python",
   "name": "python",
   "nbconvert_exporter": "python",
   "pygments_lexer": "ipython3",
   "version": "3.11.5"
  }
 },
 "nbformat": 4,
 "nbformat_minor": 5
}
