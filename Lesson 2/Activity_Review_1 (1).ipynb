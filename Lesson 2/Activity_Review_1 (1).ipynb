{
 "cells": [
  {
   "cell_type": "markdown",
   "id": "c6358c8d-f307-473b-8509-78882da11a4d",
   "metadata": {},
   "source": [
    "# Activity Review 1"
   ]
  },
  {
   "cell_type": "code",
   "execution_count": 4,
   "id": "d4ace48e-2869-436d-811c-d93376f41d16",
   "metadata": {},
   "outputs": [
    {
     "name": "stdout",
     "output_type": "stream",
     "text": [
      "25000000\n",
      "25000000\n"
     ]
    }
   ],
   "source": [
    "int1 = 25_000_000\n",
    "int2 = 25000000\n",
    "print(int1)\n",
    "print(int2)"
   ]
  },
  {
   "cell_type": "code",
   "execution_count": 7,
   "id": "5ada0d2b-ffc9-443b-bd26-cc2c4161dea4",
   "metadata": {},
   "outputs": [
    {
     "name": "stdout",
     "output_type": "stream",
     "text": [
      "175000.0\n"
     ]
    }
   ],
   "source": [
    "num = 175e3\n",
    "print(num)"
   ]
  },
  {
   "cell_type": "code",
   "execution_count": 8,
   "id": "48ca75b8-45dd-4801-8b3f-f6478cf4bfd3",
   "metadata": {},
   "outputs": [
    {
     "name": "stdout",
     "output_type": "stream",
     "text": [
      "Searching for the smallest exponent N where 2eN returns inf...\n",
      "\n",
      "2e305 = 2e+305 (inf: False)\n",
      "2e306 = 2e+306 (inf: False)\n",
      "2e307 = 2e+307 (inf: False)\n",
      "2e308 = inf (inf: True)\n",
      "2e309 = inf (inf: True)\n",
      "2e310 = inf (inf: True)\n",
      "2e311 = inf (inf: True)\n",
      "2e312 = inf (inf: True)\n",
      "2e313 = inf (inf: True)\n",
      "2e314 = inf (inf: True)\n",
      "\n",
      "The smallest exponent N where 2eN returns inf is: 308\n",
      "2e307 = 2e+307\n",
      "2e308 = inf\n"
     ]
    }
   ],
   "source": [
    "import math\n",
    "\n",
    "def test_exponent(n):\n",
    "    \"\"\"Test if 2eN returns infinity\"\"\"\n",
    "    try:\n",
    "        result = eval(f\"2e{n}\")\n",
    "        return math.isinf(result), result\n",
    "    except:\n",
    "        return True, float('inf')\n",
    "\n",
    "low = 300\n",
    "high = 320\n",
    "\n",
    "print(\"Searching for the smallest exponent N where 2eN returns inf...\")\n",
    "print()\n",
    "\n",
    "for n in range(305, 315):\n",
    "    is_inf, value = test_exponent(n)\n",
    "    print(f\"2e{n} = {value} (inf: {is_inf})\")\n",
    "\n",
    "print()\n",
    "\n",
    "while low < high:\n",
    "    mid = (low + high) // 2\n",
    "    is_inf, value = test_exponent(mid)\n",
    "    \n",
    "    if is_inf:\n",
    "        high = mid\n",
    "    else:\n",
    "        low = mid + 1\n",
    "\n",
    "print(f\"The smallest exponent N where 2eN returns inf is: {low}\")\n",
    "print(f\"2e{low-1} = {eval(f'2e{low-1}')}\")\n",
    "print(f\"2e{low} = {eval(f'2e{low}')}\")"
   ]
  },
  {
   "cell_type": "code",
   "execution_count": null,
   "id": "bd60479c-b106-4e77-adbf-5bf58f93a2a0",
   "metadata": {},
   "outputs": [],
   "source": []
  }
 ],
 "metadata": {
  "kernelspec": {
   "display_name": "anaconda-panel-2023.05-py310",
   "language": "python",
   "name": "conda-env-anaconda-panel-2023.05-py310-py"
  },
  "language_info": {
   "codemirror_mode": {
    "name": "ipython",
    "version": 3
   },
   "file_extension": ".py",
   "mimetype": "text/x-python",
   "name": "python",
   "nbconvert_exporter": "python",
   "pygments_lexer": "ipython3",
   "version": "3.11.5"
  }
 },
 "nbformat": 4,
 "nbformat_minor": 5
}
